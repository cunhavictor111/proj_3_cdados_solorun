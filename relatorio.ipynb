{
 "cells": [
  {
   "cell_type": "markdown",
   "metadata": {},
   "source": [
    "## **PROJETO 3 - CIÊNCIA DOS DADOS**\n",
    "\n",
    "por Victor de Almeida Cunha"
   ]
  },
  {
   "cell_type": "code",
   "execution_count": 481,
   "metadata": {},
   "outputs": [],
   "source": [
    "%matplotlib inline\n",
    "\n",
    "import pandas as pd\n",
    "import numpy as np\n",
    "from scipy.stats import norm, probplot\n",
    "import statsmodels.api as sm\n",
    "import statsmodels.formula.api as smf\n",
    "import matplotlib.pyplot as plt\n",
    "import seaborn as sns\n",
    "\n",
    "\n",
    "from sklearn.metrics import (confusion_matrix,  \n",
    "                           accuracy_score)\n",
    "\n",
    "from mpl_toolkits.mplot3d import Axes3D\n",
    "\n",
    "# Para ter melhor print\n",
    "from IPython.display import display"
   ]
  },
  {
   "cell_type": "markdown",
   "metadata": {},
   "source": [
    "___\n",
    "# **INTRODUÇÃO**\n",
    "___"
   ]
  },
  {
   "cell_type": "markdown",
   "metadata": {},
   "source": [
    "Um dos jogos competitivos on-line mais populares atualmente é League Of Legends, um jogo onde você e mais 4 pessoas devem lutar contra um time de outros 5 jogadores para destruir o Inibidor inimigo. \n",
    "\n",
    "Para isso, você utiliza das habilidades do seu herói e dos diversos inimigos espalhados pelo mapa. \n",
    "\n",
    "A progressão para a vitória é bem simples: destrua as torres em cada corredor do mapa, destrua o inibidor daquele corredor e destrua o inibidor principal inimigo."
   ]
  },
  {
   "cell_type": "markdown",
   "metadata": {},
   "source": [
    "Por ser um jogo competitivo muito popular, vários times e analistas utilizam das estatísticas de cada partida para saber onde que um time errou e até mesmo prever qual time irá ganhar, que é o que iremos tentar achar nesse relatório."
   ]
  },
  {
   "cell_type": "markdown",
   "metadata": {},
   "source": [
    "Para isso, possuímos duas bases de dados: uma com partidas com duração de 10 minutos e outra com duração de 15 minutos, todas onde os times eram os melhores jogadores do mundo (ou Challenger)."
   ]
  },
  {
   "cell_type": "code",
   "execution_count": 482,
   "metadata": {},
   "outputs": [
    {
     "data": {
      "text/html": [
       "<div>\n",
       "<style scoped>\n",
       "    .dataframe tbody tr th:only-of-type {\n",
       "        vertical-align: middle;\n",
       "    }\n",
       "\n",
       "    .dataframe tbody tr th {\n",
       "        vertical-align: top;\n",
       "    }\n",
       "\n",
       "    .dataframe thead th {\n",
       "        text-align: right;\n",
       "    }\n",
       "</style>\n",
       "<table border=\"1\" class=\"dataframe\">\n",
       "  <thead>\n",
       "    <tr style=\"text-align: right;\">\n",
       "      <th></th>\n",
       "      <th>gameId</th>\n",
       "      <th>blueWins</th>\n",
       "      <th>blueTotalGolds</th>\n",
       "      <th>blueCurrentGolds</th>\n",
       "      <th>blueTotalLevel</th>\n",
       "      <th>blueAvgLevel</th>\n",
       "      <th>blueTotalMinionKills</th>\n",
       "      <th>blueTotalJungleMinionKills</th>\n",
       "      <th>blueFirstBlood</th>\n",
       "      <th>blueKill</th>\n",
       "      <th>...</th>\n",
       "      <th>redFirstTowerLane</th>\n",
       "      <th>redTowerKills</th>\n",
       "      <th>redMidTowerKills</th>\n",
       "      <th>redTopTowerKills</th>\n",
       "      <th>redBotTowerKills</th>\n",
       "      <th>redInhibitor</th>\n",
       "      <th>redFirstDragon</th>\n",
       "      <th>redDragnoType</th>\n",
       "      <th>redDragon</th>\n",
       "      <th>redRiftHeralds</th>\n",
       "    </tr>\n",
       "  </thead>\n",
       "  <tbody>\n",
       "    <tr>\n",
       "      <th>0</th>\n",
       "      <td>4247263043</td>\n",
       "      <td>0</td>\n",
       "      <td>14870</td>\n",
       "      <td>2889</td>\n",
       "      <td>32</td>\n",
       "      <td>6.4</td>\n",
       "      <td>199</td>\n",
       "      <td>53</td>\n",
       "      <td>0</td>\n",
       "      <td>3</td>\n",
       "      <td>...</td>\n",
       "      <td>[]</td>\n",
       "      <td>0</td>\n",
       "      <td>0</td>\n",
       "      <td>0</td>\n",
       "      <td>0</td>\n",
       "      <td>0</td>\n",
       "      <td>1</td>\n",
       "      <td>['WATER_DRAGON']</td>\n",
       "      <td>1</td>\n",
       "      <td>0</td>\n",
       "    </tr>\n",
       "    <tr>\n",
       "      <th>1</th>\n",
       "      <td>4247155821</td>\n",
       "      <td>1</td>\n",
       "      <td>14497</td>\n",
       "      <td>2617</td>\n",
       "      <td>33</td>\n",
       "      <td>6.6</td>\n",
       "      <td>229</td>\n",
       "      <td>44</td>\n",
       "      <td>0</td>\n",
       "      <td>2</td>\n",
       "      <td>...</td>\n",
       "      <td>[]</td>\n",
       "      <td>0</td>\n",
       "      <td>0</td>\n",
       "      <td>0</td>\n",
       "      <td>0</td>\n",
       "      <td>0</td>\n",
       "      <td>0</td>\n",
       "      <td>[]</td>\n",
       "      <td>0</td>\n",
       "      <td>0</td>\n",
       "    </tr>\n",
       "    <tr>\n",
       "      <th>2</th>\n",
       "      <td>4243963257</td>\n",
       "      <td>0</td>\n",
       "      <td>15617</td>\n",
       "      <td>1757</td>\n",
       "      <td>34</td>\n",
       "      <td>6.8</td>\n",
       "      <td>223</td>\n",
       "      <td>39</td>\n",
       "      <td>0</td>\n",
       "      <td>3</td>\n",
       "      <td>...</td>\n",
       "      <td>['BOT_LANE']</td>\n",
       "      <td>1</td>\n",
       "      <td>0</td>\n",
       "      <td>0</td>\n",
       "      <td>1</td>\n",
       "      <td>0</td>\n",
       "      <td>1</td>\n",
       "      <td>['FIRE_DRAGON']</td>\n",
       "      <td>1</td>\n",
       "      <td>1</td>\n",
       "    </tr>\n",
       "    <tr>\n",
       "      <th>3</th>\n",
       "      <td>4241678498</td>\n",
       "      <td>0</td>\n",
       "      <td>15684</td>\n",
       "      <td>1439</td>\n",
       "      <td>35</td>\n",
       "      <td>7.0</td>\n",
       "      <td>251</td>\n",
       "      <td>64</td>\n",
       "      <td>0</td>\n",
       "      <td>3</td>\n",
       "      <td>...</td>\n",
       "      <td>[]</td>\n",
       "      <td>0</td>\n",
       "      <td>0</td>\n",
       "      <td>0</td>\n",
       "      <td>0</td>\n",
       "      <td>0</td>\n",
       "      <td>0</td>\n",
       "      <td>[]</td>\n",
       "      <td>0</td>\n",
       "      <td>0</td>\n",
       "    </tr>\n",
       "    <tr>\n",
       "      <th>4</th>\n",
       "      <td>4241538868</td>\n",
       "      <td>1</td>\n",
       "      <td>17472</td>\n",
       "      <td>3512</td>\n",
       "      <td>35</td>\n",
       "      <td>7.0</td>\n",
       "      <td>257</td>\n",
       "      <td>46</td>\n",
       "      <td>0</td>\n",
       "      <td>7</td>\n",
       "      <td>...</td>\n",
       "      <td>[]</td>\n",
       "      <td>0</td>\n",
       "      <td>0</td>\n",
       "      <td>0</td>\n",
       "      <td>0</td>\n",
       "      <td>0</td>\n",
       "      <td>0</td>\n",
       "      <td>[]</td>\n",
       "      <td>0</td>\n",
       "      <td>0</td>\n",
       "    </tr>\n",
       "    <tr>\n",
       "      <th>...</th>\n",
       "      <td>...</td>\n",
       "      <td>...</td>\n",
       "      <td>...</td>\n",
       "      <td>...</td>\n",
       "      <td>...</td>\n",
       "      <td>...</td>\n",
       "      <td>...</td>\n",
       "      <td>...</td>\n",
       "      <td>...</td>\n",
       "      <td>...</td>\n",
       "      <td>...</td>\n",
       "      <td>...</td>\n",
       "      <td>...</td>\n",
       "      <td>...</td>\n",
       "      <td>...</td>\n",
       "      <td>...</td>\n",
       "      <td>...</td>\n",
       "      <td>...</td>\n",
       "      <td>...</td>\n",
       "      <td>...</td>\n",
       "      <td>...</td>\n",
       "    </tr>\n",
       "    <tr>\n",
       "      <th>26404</th>\n",
       "      <td>4143231833</td>\n",
       "      <td>0</td>\n",
       "      <td>16762</td>\n",
       "      <td>5072</td>\n",
       "      <td>36</td>\n",
       "      <td>7.2</td>\n",
       "      <td>206</td>\n",
       "      <td>52</td>\n",
       "      <td>0</td>\n",
       "      <td>7</td>\n",
       "      <td>...</td>\n",
       "      <td>[]</td>\n",
       "      <td>0</td>\n",
       "      <td>0</td>\n",
       "      <td>0</td>\n",
       "      <td>0</td>\n",
       "      <td>0</td>\n",
       "      <td>1</td>\n",
       "      <td>['WATER_DRAGON']</td>\n",
       "      <td>1</td>\n",
       "      <td>1</td>\n",
       "    </tr>\n",
       "    <tr>\n",
       "      <th>26405</th>\n",
       "      <td>4157911901</td>\n",
       "      <td>0</td>\n",
       "      <td>35765</td>\n",
       "      <td>1440</td>\n",
       "      <td>39</td>\n",
       "      <td>7.8</td>\n",
       "      <td>191</td>\n",
       "      <td>16</td>\n",
       "      <td>0</td>\n",
       "      <td>18</td>\n",
       "      <td>...</td>\n",
       "      <td>[]</td>\n",
       "      <td>3</td>\n",
       "      <td>1</td>\n",
       "      <td>0</td>\n",
       "      <td>2</td>\n",
       "      <td>0</td>\n",
       "      <td>0</td>\n",
       "      <td>[]</td>\n",
       "      <td>0</td>\n",
       "      <td>0</td>\n",
       "    </tr>\n",
       "    <tr>\n",
       "      <th>26406</th>\n",
       "      <td>3764171638</td>\n",
       "      <td>0</td>\n",
       "      <td>15712</td>\n",
       "      <td>4137</td>\n",
       "      <td>34</td>\n",
       "      <td>6.8</td>\n",
       "      <td>218</td>\n",
       "      <td>55</td>\n",
       "      <td>0</td>\n",
       "      <td>3</td>\n",
       "      <td>...</td>\n",
       "      <td>[]</td>\n",
       "      <td>0</td>\n",
       "      <td>0</td>\n",
       "      <td>0</td>\n",
       "      <td>0</td>\n",
       "      <td>0</td>\n",
       "      <td>0</td>\n",
       "      <td>[]</td>\n",
       "      <td>0</td>\n",
       "      <td>0</td>\n",
       "    </tr>\n",
       "    <tr>\n",
       "      <th>26407</th>\n",
       "      <td>4110201724</td>\n",
       "      <td>1</td>\n",
       "      <td>15850</td>\n",
       "      <td>3220</td>\n",
       "      <td>33</td>\n",
       "      <td>6.6</td>\n",
       "      <td>193</td>\n",
       "      <td>48</td>\n",
       "      <td>0</td>\n",
       "      <td>6</td>\n",
       "      <td>...</td>\n",
       "      <td>[]</td>\n",
       "      <td>0</td>\n",
       "      <td>0</td>\n",
       "      <td>0</td>\n",
       "      <td>0</td>\n",
       "      <td>0</td>\n",
       "      <td>0</td>\n",
       "      <td>[]</td>\n",
       "      <td>0</td>\n",
       "      <td>0</td>\n",
       "    </tr>\n",
       "    <tr>\n",
       "      <th>26408</th>\n",
       "      <td>4100240254</td>\n",
       "      <td>1</td>\n",
       "      <td>16103</td>\n",
       "      <td>3128</td>\n",
       "      <td>34</td>\n",
       "      <td>6.8</td>\n",
       "      <td>255</td>\n",
       "      <td>44</td>\n",
       "      <td>0</td>\n",
       "      <td>3</td>\n",
       "      <td>...</td>\n",
       "      <td>[]</td>\n",
       "      <td>0</td>\n",
       "      <td>0</td>\n",
       "      <td>0</td>\n",
       "      <td>0</td>\n",
       "      <td>0</td>\n",
       "      <td>1</td>\n",
       "      <td>['WATER_DRAGON']</td>\n",
       "      <td>1</td>\n",
       "      <td>0</td>\n",
       "    </tr>\n",
       "  </tbody>\n",
       "</table>\n",
       "<p>26409 rows × 51 columns</p>\n",
       "</div>"
      ],
      "text/plain": [
       "           gameId  blueWins  blueTotalGolds  blueCurrentGolds  blueTotalLevel  \\\n",
       "0      4247263043         0           14870              2889              32   \n",
       "1      4247155821         1           14497              2617              33   \n",
       "2      4243963257         0           15617              1757              34   \n",
       "3      4241678498         0           15684              1439              35   \n",
       "4      4241538868         1           17472              3512              35   \n",
       "...           ...       ...             ...               ...             ...   \n",
       "26404  4143231833         0           16762              5072              36   \n",
       "26405  4157911901         0           35765              1440              39   \n",
       "26406  3764171638         0           15712              4137              34   \n",
       "26407  4110201724         1           15850              3220              33   \n",
       "26408  4100240254         1           16103              3128              34   \n",
       "\n",
       "       blueAvgLevel  blueTotalMinionKills  blueTotalJungleMinionKills  \\\n",
       "0               6.4                   199                          53   \n",
       "1               6.6                   229                          44   \n",
       "2               6.8                   223                          39   \n",
       "3               7.0                   251                          64   \n",
       "4               7.0                   257                          46   \n",
       "...             ...                   ...                         ...   \n",
       "26404           7.2                   206                          52   \n",
       "26405           7.8                   191                          16   \n",
       "26406           6.8                   218                          55   \n",
       "26407           6.6                   193                          48   \n",
       "26408           6.8                   255                          44   \n",
       "\n",
       "       blueFirstBlood  blueKill  ...  redFirstTowerLane  redTowerKills  \\\n",
       "0                   0         3  ...                 []              0   \n",
       "1                   0         2  ...                 []              0   \n",
       "2                   0         3  ...       ['BOT_LANE']              1   \n",
       "3                   0         3  ...                 []              0   \n",
       "4                   0         7  ...                 []              0   \n",
       "...               ...       ...  ...                ...            ...   \n",
       "26404               0         7  ...                 []              0   \n",
       "26405               0        18  ...                 []              3   \n",
       "26406               0         3  ...                 []              0   \n",
       "26407               0         6  ...                 []              0   \n",
       "26408               0         3  ...                 []              0   \n",
       "\n",
       "       redMidTowerKills  redTopTowerKills  redBotTowerKills  redInhibitor  \\\n",
       "0                     0                 0                 0             0   \n",
       "1                     0                 0                 0             0   \n",
       "2                     0                 0                 1             0   \n",
       "3                     0                 0                 0             0   \n",
       "4                     0                 0                 0             0   \n",
       "...                 ...               ...               ...           ...   \n",
       "26404                 0                 0                 0             0   \n",
       "26405                 1                 0                 2             0   \n",
       "26406                 0                 0                 0             0   \n",
       "26407                 0                 0                 0             0   \n",
       "26408                 0                 0                 0             0   \n",
       "\n",
       "      redFirstDragon     redDragnoType  redDragon  redRiftHeralds  \n",
       "0                  1  ['WATER_DRAGON']          1               0  \n",
       "1                  0                []          0               0  \n",
       "2                  1   ['FIRE_DRAGON']          1               1  \n",
       "3                  0                []          0               0  \n",
       "4                  0                []          0               0  \n",
       "...              ...               ...        ...             ...  \n",
       "26404              1  ['WATER_DRAGON']          1               1  \n",
       "26405              0                []          0               0  \n",
       "26406              0                []          0               0  \n",
       "26407              0                []          0               0  \n",
       "26408              1  ['WATER_DRAGON']          1               0  \n",
       "\n",
       "[26409 rows x 51 columns]"
      ]
     },
     "execution_count": 482,
     "metadata": {},
     "output_type": "execute_result"
    }
   ],
   "source": [
    "partidas_10min = pd.read_csv('data\\Challenger_Ranked_Games_10minute.csv')\n",
    "partidas_10min"
   ]
  },
  {
   "cell_type": "markdown",
   "metadata": {},
   "source": [
    "Essa base de dados possui diversos dados da partida, entre eles:\n",
    "- Quantidade de ouro que um time possui;\n",
    "- O nível combinado de todos os heróis de um time;\n",
    "- Quantos jogadores inimigos e minions (inimigos controlados por IA) foram mortos;\n",
    "- Qual time derrubou a primeira torre do mapa."
   ]
  },
  {
   "cell_type": "markdown",
   "metadata": {},
   "source": [
    "Para começar a analisar nossa base de dados, vamos primeiro tirar as colunas que não vão interessar para a nossa análise, que são:\n",
    "- ID da partida;\n",
    "- Qual foi o corredor onde a primeira torre destruída por um time estava;\n",
    "- Tipo de dragões derrotados."
   ]
  },
  {
   "cell_type": "code",
   "execution_count": 483,
   "metadata": {},
   "outputs": [
    {
     "data": {
      "text/html": [
       "<div>\n",
       "<style scoped>\n",
       "    .dataframe tbody tr th:only-of-type {\n",
       "        vertical-align: middle;\n",
       "    }\n",
       "\n",
       "    .dataframe tbody tr th {\n",
       "        vertical-align: top;\n",
       "    }\n",
       "\n",
       "    .dataframe thead th {\n",
       "        text-align: right;\n",
       "    }\n",
       "</style>\n",
       "<table border=\"1\" class=\"dataframe\">\n",
       "  <thead>\n",
       "    <tr style=\"text-align: right;\">\n",
       "      <th></th>\n",
       "      <th>blueWins</th>\n",
       "      <th>blueTotalGolds</th>\n",
       "      <th>blueCurrentGolds</th>\n",
       "      <th>blueTotalLevel</th>\n",
       "      <th>blueAvgLevel</th>\n",
       "      <th>blueTotalMinionKills</th>\n",
       "      <th>blueTotalJungleMinionKills</th>\n",
       "      <th>blueFirstBlood</th>\n",
       "      <th>blueKill</th>\n",
       "      <th>blueDeath</th>\n",
       "      <th>...</th>\n",
       "      <th>redFirstTower</th>\n",
       "      <th>redFirstInhibitor</th>\n",
       "      <th>redTowerKills</th>\n",
       "      <th>redMidTowerKills</th>\n",
       "      <th>redTopTowerKills</th>\n",
       "      <th>redBotTowerKills</th>\n",
       "      <th>redInhibitor</th>\n",
       "      <th>redFirstDragon</th>\n",
       "      <th>redDragon</th>\n",
       "      <th>redRiftHeralds</th>\n",
       "    </tr>\n",
       "  </thead>\n",
       "  <tbody>\n",
       "    <tr>\n",
       "      <th>0</th>\n",
       "      <td>0</td>\n",
       "      <td>14870</td>\n",
       "      <td>2889</td>\n",
       "      <td>32</td>\n",
       "      <td>6.4</td>\n",
       "      <td>199</td>\n",
       "      <td>53</td>\n",
       "      <td>0</td>\n",
       "      <td>3</td>\n",
       "      <td>9</td>\n",
       "      <td>...</td>\n",
       "      <td>0</td>\n",
       "      <td>0</td>\n",
       "      <td>0</td>\n",
       "      <td>0</td>\n",
       "      <td>0</td>\n",
       "      <td>0</td>\n",
       "      <td>0</td>\n",
       "      <td>1</td>\n",
       "      <td>1</td>\n",
       "      <td>0</td>\n",
       "    </tr>\n",
       "    <tr>\n",
       "      <th>1</th>\n",
       "      <td>1</td>\n",
       "      <td>14497</td>\n",
       "      <td>2617</td>\n",
       "      <td>33</td>\n",
       "      <td>6.6</td>\n",
       "      <td>229</td>\n",
       "      <td>44</td>\n",
       "      <td>0</td>\n",
       "      <td>2</td>\n",
       "      <td>3</td>\n",
       "      <td>...</td>\n",
       "      <td>0</td>\n",
       "      <td>0</td>\n",
       "      <td>0</td>\n",
       "      <td>0</td>\n",
       "      <td>0</td>\n",
       "      <td>0</td>\n",
       "      <td>0</td>\n",
       "      <td>0</td>\n",
       "      <td>0</td>\n",
       "      <td>0</td>\n",
       "    </tr>\n",
       "    <tr>\n",
       "      <th>2</th>\n",
       "      <td>0</td>\n",
       "      <td>15617</td>\n",
       "      <td>1757</td>\n",
       "      <td>34</td>\n",
       "      <td>6.8</td>\n",
       "      <td>223</td>\n",
       "      <td>39</td>\n",
       "      <td>0</td>\n",
       "      <td>3</td>\n",
       "      <td>11</td>\n",
       "      <td>...</td>\n",
       "      <td>1</td>\n",
       "      <td>0</td>\n",
       "      <td>1</td>\n",
       "      <td>0</td>\n",
       "      <td>0</td>\n",
       "      <td>1</td>\n",
       "      <td>0</td>\n",
       "      <td>1</td>\n",
       "      <td>1</td>\n",
       "      <td>1</td>\n",
       "    </tr>\n",
       "    <tr>\n",
       "      <th>3</th>\n",
       "      <td>0</td>\n",
       "      <td>15684</td>\n",
       "      <td>1439</td>\n",
       "      <td>35</td>\n",
       "      <td>7.0</td>\n",
       "      <td>251</td>\n",
       "      <td>64</td>\n",
       "      <td>0</td>\n",
       "      <td>3</td>\n",
       "      <td>4</td>\n",
       "      <td>...</td>\n",
       "      <td>0</td>\n",
       "      <td>0</td>\n",
       "      <td>0</td>\n",
       "      <td>0</td>\n",
       "      <td>0</td>\n",
       "      <td>0</td>\n",
       "      <td>0</td>\n",
       "      <td>0</td>\n",
       "      <td>0</td>\n",
       "      <td>0</td>\n",
       "    </tr>\n",
       "    <tr>\n",
       "      <th>4</th>\n",
       "      <td>1</td>\n",
       "      <td>17472</td>\n",
       "      <td>3512</td>\n",
       "      <td>35</td>\n",
       "      <td>7.0</td>\n",
       "      <td>257</td>\n",
       "      <td>46</td>\n",
       "      <td>0</td>\n",
       "      <td>7</td>\n",
       "      <td>5</td>\n",
       "      <td>...</td>\n",
       "      <td>0</td>\n",
       "      <td>0</td>\n",
       "      <td>0</td>\n",
       "      <td>0</td>\n",
       "      <td>0</td>\n",
       "      <td>0</td>\n",
       "      <td>0</td>\n",
       "      <td>0</td>\n",
       "      <td>0</td>\n",
       "      <td>0</td>\n",
       "    </tr>\n",
       "    <tr>\n",
       "      <th>...</th>\n",
       "      <td>...</td>\n",
       "      <td>...</td>\n",
       "      <td>...</td>\n",
       "      <td>...</td>\n",
       "      <td>...</td>\n",
       "      <td>...</td>\n",
       "      <td>...</td>\n",
       "      <td>...</td>\n",
       "      <td>...</td>\n",
       "      <td>...</td>\n",
       "      <td>...</td>\n",
       "      <td>...</td>\n",
       "      <td>...</td>\n",
       "      <td>...</td>\n",
       "      <td>...</td>\n",
       "      <td>...</td>\n",
       "      <td>...</td>\n",
       "      <td>...</td>\n",
       "      <td>...</td>\n",
       "      <td>...</td>\n",
       "      <td>...</td>\n",
       "    </tr>\n",
       "    <tr>\n",
       "      <th>26404</th>\n",
       "      <td>0</td>\n",
       "      <td>16762</td>\n",
       "      <td>5072</td>\n",
       "      <td>36</td>\n",
       "      <td>7.2</td>\n",
       "      <td>206</td>\n",
       "      <td>52</td>\n",
       "      <td>0</td>\n",
       "      <td>7</td>\n",
       "      <td>5</td>\n",
       "      <td>...</td>\n",
       "      <td>0</td>\n",
       "      <td>0</td>\n",
       "      <td>0</td>\n",
       "      <td>0</td>\n",
       "      <td>0</td>\n",
       "      <td>0</td>\n",
       "      <td>0</td>\n",
       "      <td>1</td>\n",
       "      <td>1</td>\n",
       "      <td>1</td>\n",
       "    </tr>\n",
       "    <tr>\n",
       "      <th>26405</th>\n",
       "      <td>0</td>\n",
       "      <td>35765</td>\n",
       "      <td>1440</td>\n",
       "      <td>39</td>\n",
       "      <td>7.8</td>\n",
       "      <td>191</td>\n",
       "      <td>16</td>\n",
       "      <td>0</td>\n",
       "      <td>18</td>\n",
       "      <td>27</td>\n",
       "      <td>...</td>\n",
       "      <td>0</td>\n",
       "      <td>0</td>\n",
       "      <td>3</td>\n",
       "      <td>1</td>\n",
       "      <td>0</td>\n",
       "      <td>2</td>\n",
       "      <td>0</td>\n",
       "      <td>0</td>\n",
       "      <td>0</td>\n",
       "      <td>0</td>\n",
       "    </tr>\n",
       "    <tr>\n",
       "      <th>26406</th>\n",
       "      <td>0</td>\n",
       "      <td>15712</td>\n",
       "      <td>4137</td>\n",
       "      <td>34</td>\n",
       "      <td>6.8</td>\n",
       "      <td>218</td>\n",
       "      <td>55</td>\n",
       "      <td>0</td>\n",
       "      <td>3</td>\n",
       "      <td>0</td>\n",
       "      <td>...</td>\n",
       "      <td>0</td>\n",
       "      <td>0</td>\n",
       "      <td>0</td>\n",
       "      <td>0</td>\n",
       "      <td>0</td>\n",
       "      <td>0</td>\n",
       "      <td>0</td>\n",
       "      <td>0</td>\n",
       "      <td>0</td>\n",
       "      <td>0</td>\n",
       "    </tr>\n",
       "    <tr>\n",
       "      <th>26407</th>\n",
       "      <td>1</td>\n",
       "      <td>15850</td>\n",
       "      <td>3220</td>\n",
       "      <td>33</td>\n",
       "      <td>6.6</td>\n",
       "      <td>193</td>\n",
       "      <td>48</td>\n",
       "      <td>0</td>\n",
       "      <td>6</td>\n",
       "      <td>4</td>\n",
       "      <td>...</td>\n",
       "      <td>0</td>\n",
       "      <td>0</td>\n",
       "      <td>0</td>\n",
       "      <td>0</td>\n",
       "      <td>0</td>\n",
       "      <td>0</td>\n",
       "      <td>0</td>\n",
       "      <td>0</td>\n",
       "      <td>0</td>\n",
       "      <td>0</td>\n",
       "    </tr>\n",
       "    <tr>\n",
       "      <th>26408</th>\n",
       "      <td>1</td>\n",
       "      <td>16103</td>\n",
       "      <td>3128</td>\n",
       "      <td>34</td>\n",
       "      <td>6.8</td>\n",
       "      <td>255</td>\n",
       "      <td>44</td>\n",
       "      <td>0</td>\n",
       "      <td>3</td>\n",
       "      <td>2</td>\n",
       "      <td>...</td>\n",
       "      <td>0</td>\n",
       "      <td>0</td>\n",
       "      <td>0</td>\n",
       "      <td>0</td>\n",
       "      <td>0</td>\n",
       "      <td>0</td>\n",
       "      <td>0</td>\n",
       "      <td>1</td>\n",
       "      <td>1</td>\n",
       "      <td>0</td>\n",
       "    </tr>\n",
       "  </tbody>\n",
       "</table>\n",
       "<p>26409 rows × 46 columns</p>\n",
       "</div>"
      ],
      "text/plain": [
       "       blueWins  blueTotalGolds  blueCurrentGolds  blueTotalLevel  \\\n",
       "0             0           14870              2889              32   \n",
       "1             1           14497              2617              33   \n",
       "2             0           15617              1757              34   \n",
       "3             0           15684              1439              35   \n",
       "4             1           17472              3512              35   \n",
       "...         ...             ...               ...             ...   \n",
       "26404         0           16762              5072              36   \n",
       "26405         0           35765              1440              39   \n",
       "26406         0           15712              4137              34   \n",
       "26407         1           15850              3220              33   \n",
       "26408         1           16103              3128              34   \n",
       "\n",
       "       blueAvgLevel  blueTotalMinionKills  blueTotalJungleMinionKills  \\\n",
       "0               6.4                   199                          53   \n",
       "1               6.6                   229                          44   \n",
       "2               6.8                   223                          39   \n",
       "3               7.0                   251                          64   \n",
       "4               7.0                   257                          46   \n",
       "...             ...                   ...                         ...   \n",
       "26404           7.2                   206                          52   \n",
       "26405           7.8                   191                          16   \n",
       "26406           6.8                   218                          55   \n",
       "26407           6.6                   193                          48   \n",
       "26408           6.8                   255                          44   \n",
       "\n",
       "       blueFirstBlood  blueKill  blueDeath  ...  redFirstTower  \\\n",
       "0                   0         3          9  ...              0   \n",
       "1                   0         2          3  ...              0   \n",
       "2                   0         3         11  ...              1   \n",
       "3                   0         3          4  ...              0   \n",
       "4                   0         7          5  ...              0   \n",
       "...               ...       ...        ...  ...            ...   \n",
       "26404               0         7          5  ...              0   \n",
       "26405               0        18         27  ...              0   \n",
       "26406               0         3          0  ...              0   \n",
       "26407               0         6          4  ...              0   \n",
       "26408               0         3          2  ...              0   \n",
       "\n",
       "       redFirstInhibitor  redTowerKills  redMidTowerKills  redTopTowerKills  \\\n",
       "0                      0              0                 0                 0   \n",
       "1                      0              0                 0                 0   \n",
       "2                      0              1                 0                 0   \n",
       "3                      0              0                 0                 0   \n",
       "4                      0              0                 0                 0   \n",
       "...                  ...            ...               ...               ...   \n",
       "26404                  0              0                 0                 0   \n",
       "26405                  0              3                 1                 0   \n",
       "26406                  0              0                 0                 0   \n",
       "26407                  0              0                 0                 0   \n",
       "26408                  0              0                 0                 0   \n",
       "\n",
       "       redBotTowerKills  redInhibitor  redFirstDragon  redDragon  \\\n",
       "0                     0             0               1          1   \n",
       "1                     0             0               0          0   \n",
       "2                     1             0               1          1   \n",
       "3                     0             0               0          0   \n",
       "4                     0             0               0          0   \n",
       "...                 ...           ...             ...        ...   \n",
       "26404                 0             0               1          1   \n",
       "26405                 2             0               0          0   \n",
       "26406                 0             0               0          0   \n",
       "26407                 0             0               0          0   \n",
       "26408                 0             0               1          1   \n",
       "\n",
       "       redRiftHeralds  \n",
       "0                   0  \n",
       "1                   0  \n",
       "2                   1  \n",
       "3                   0  \n",
       "4                   0  \n",
       "...               ...  \n",
       "26404               1  \n",
       "26405               0  \n",
       "26406               0  \n",
       "26407               0  \n",
       "26408               0  \n",
       "\n",
       "[26409 rows x 46 columns]"
      ]
     },
     "execution_count": 483,
     "metadata": {},
     "output_type": "execute_result"
    }
   ],
   "source": [
    "partidas_10min = partidas_10min.drop(columns=['gameId','blueFirstTowerLane','blueDragnoType','redFirstTowerLane','redDragnoType'])\n",
    "partidas_10min"
   ]
  },
  {
   "cell_type": "markdown",
   "metadata": {},
   "source": [
    "Agora, vamos renomear nossas categorias qualitativas."
   ]
  },
  {
   "cell_type": "markdown",
   "metadata": {},
   "source": [
    "A categoria \"First Blood\" diz qual time matou o primeiro inimigo da partida. Ou seja, se o time azul teve a primeira eliminação ou se o time vermelho teve a primeira eliminação da partida."
   ]
  },
  {
   "cell_type": "code",
   "execution_count": 484,
   "metadata": {},
   "outputs": [],
   "source": [
    "partidas_10min['blueFirstBlood'] = partidas_10min['blueFirstBlood'].astype('category')\n",
    "partidas_10min['blueFirstBlood'] = partidas_10min['blueFirstBlood'].cat.rename_categories({0:'No',1:'Yes'})\n",
    "\n",
    "partidas_10min['redFirstBlood'] = partidas_10min['redFirstBlood'].astype('category')\n",
    "partidas_10min['redFirstBlood'] = partidas_10min['redFirstBlood'].cat.rename_categories({0:'No',1:'Yes'})"
   ]
  },
  {
   "cell_type": "markdown",
   "metadata": {},
   "source": [
    "A categoria \"First Tower\" diz se o time analisado destruiu a primeira torre da partida ou não, parecido com a \"First Blood\"."
   ]
  },
  {
   "cell_type": "code",
   "execution_count": 485,
   "metadata": {},
   "outputs": [],
   "source": [
    "partidas_10min['blueFirstTower'] = partidas_10min['blueFirstTower'].astype('category')\n",
    "partidas_10min['blueFirstTower'] = partidas_10min['blueFirstTower'].cat.rename_categories({0:'No',1:'Yes'})\n",
    "\n",
    "partidas_10min['redFirstTower'] = partidas_10min['redFirstTower'].astype('category')\n",
    "partidas_10min['redFirstTower'] = partidas_10min['redFirstTower'].cat.rename_categories({0:'No',1:'Yes'})"
   ]
  },
  {
   "cell_type": "markdown",
   "metadata": {},
   "source": [
    "Analogamente, a categoria \"First Inhibitor\" diz quem destruiu o primeiro inibidor."
   ]
  },
  {
   "cell_type": "code",
   "execution_count": 486,
   "metadata": {},
   "outputs": [],
   "source": [
    "partidas_10min['blueFirstInhibitor'] = partidas_10min['blueFirstInhibitor'].astype('category')\n",
    "partidas_10min['blueFirstInhibitor'] = partidas_10min['blueFirstInhibitor'].cat.rename_categories({0:'No',1:'Yes'})\n",
    "\n",
    "partidas_10min['redFirstInhibitor'] = partidas_10min['redFirstInhibitor'].astype('category')\n",
    "partidas_10min['redFirstInhibitor'] = partidas_10min['redFirstInhibitor'].cat.rename_categories({0:'No',1:'Yes'})"
   ]
  },
  {
   "cell_type": "markdown",
   "metadata": {},
   "source": [
    "Agora, vamos dividir nossa base de dados para os times azul e vermelho."
   ]
  },
  {
   "cell_type": "code",
   "execution_count": 487,
   "metadata": {},
   "outputs": [],
   "source": [
    "partidas_10min_blue = partidas_10min.iloc[:,:23]\n",
    "partidas_10min_red = partidas_10min.iloc[:,24:45]"
   ]
  },
  {
   "cell_type": "code",
   "execution_count": 488,
   "metadata": {},
   "outputs": [
    {
     "data": {
      "text/html": [
       "<div>\n",
       "<style scoped>\n",
       "    .dataframe tbody tr th:only-of-type {\n",
       "        vertical-align: middle;\n",
       "    }\n",
       "\n",
       "    .dataframe tbody tr th {\n",
       "        vertical-align: top;\n",
       "    }\n",
       "\n",
       "    .dataframe thead th {\n",
       "        text-align: right;\n",
       "    }\n",
       "</style>\n",
       "<table border=\"1\" class=\"dataframe\">\n",
       "  <thead>\n",
       "    <tr style=\"text-align: right;\">\n",
       "      <th></th>\n",
       "      <th>blueWins</th>\n",
       "      <th>blueTotalGolds</th>\n",
       "      <th>blueCurrentGolds</th>\n",
       "      <th>blueTotalLevel</th>\n",
       "      <th>blueAvgLevel</th>\n",
       "      <th>blueTotalMinionKills</th>\n",
       "      <th>blueTotalJungleMinionKills</th>\n",
       "      <th>blueFirstBlood</th>\n",
       "      <th>blueKill</th>\n",
       "      <th>blueDeath</th>\n",
       "      <th>...</th>\n",
       "      <th>blueFirstTower</th>\n",
       "      <th>blueFirstInhibitor</th>\n",
       "      <th>blueTowerKills</th>\n",
       "      <th>blueMidTowerKills</th>\n",
       "      <th>blueTopTowerKills</th>\n",
       "      <th>blueBotTowerKills</th>\n",
       "      <th>blueInhibitor</th>\n",
       "      <th>blueFirstDragon</th>\n",
       "      <th>blueDragon</th>\n",
       "      <th>blueRiftHeralds</th>\n",
       "    </tr>\n",
       "  </thead>\n",
       "  <tbody>\n",
       "    <tr>\n",
       "      <th>0</th>\n",
       "      <td>0</td>\n",
       "      <td>14870</td>\n",
       "      <td>2889</td>\n",
       "      <td>32</td>\n",
       "      <td>6.4</td>\n",
       "      <td>199</td>\n",
       "      <td>53</td>\n",
       "      <td>No</td>\n",
       "      <td>3</td>\n",
       "      <td>9</td>\n",
       "      <td>...</td>\n",
       "      <td>No</td>\n",
       "      <td>No</td>\n",
       "      <td>0</td>\n",
       "      <td>0</td>\n",
       "      <td>0</td>\n",
       "      <td>0</td>\n",
       "      <td>0</td>\n",
       "      <td>0</td>\n",
       "      <td>0</td>\n",
       "      <td>0</td>\n",
       "    </tr>\n",
       "    <tr>\n",
       "      <th>1</th>\n",
       "      <td>1</td>\n",
       "      <td>14497</td>\n",
       "      <td>2617</td>\n",
       "      <td>33</td>\n",
       "      <td>6.6</td>\n",
       "      <td>229</td>\n",
       "      <td>44</td>\n",
       "      <td>No</td>\n",
       "      <td>2</td>\n",
       "      <td>3</td>\n",
       "      <td>...</td>\n",
       "      <td>No</td>\n",
       "      <td>No</td>\n",
       "      <td>0</td>\n",
       "      <td>0</td>\n",
       "      <td>0</td>\n",
       "      <td>0</td>\n",
       "      <td>0</td>\n",
       "      <td>0</td>\n",
       "      <td>0</td>\n",
       "      <td>1</td>\n",
       "    </tr>\n",
       "    <tr>\n",
       "      <th>2</th>\n",
       "      <td>0</td>\n",
       "      <td>15617</td>\n",
       "      <td>1757</td>\n",
       "      <td>34</td>\n",
       "      <td>6.8</td>\n",
       "      <td>223</td>\n",
       "      <td>39</td>\n",
       "      <td>No</td>\n",
       "      <td>3</td>\n",
       "      <td>11</td>\n",
       "      <td>...</td>\n",
       "      <td>No</td>\n",
       "      <td>No</td>\n",
       "      <td>0</td>\n",
       "      <td>0</td>\n",
       "      <td>0</td>\n",
       "      <td>0</td>\n",
       "      <td>0</td>\n",
       "      <td>0</td>\n",
       "      <td>0</td>\n",
       "      <td>0</td>\n",
       "    </tr>\n",
       "    <tr>\n",
       "      <th>3</th>\n",
       "      <td>0</td>\n",
       "      <td>15684</td>\n",
       "      <td>1439</td>\n",
       "      <td>35</td>\n",
       "      <td>7.0</td>\n",
       "      <td>251</td>\n",
       "      <td>64</td>\n",
       "      <td>No</td>\n",
       "      <td>3</td>\n",
       "      <td>4</td>\n",
       "      <td>...</td>\n",
       "      <td>No</td>\n",
       "      <td>No</td>\n",
       "      <td>0</td>\n",
       "      <td>0</td>\n",
       "      <td>0</td>\n",
       "      <td>0</td>\n",
       "      <td>0</td>\n",
       "      <td>0</td>\n",
       "      <td>0</td>\n",
       "      <td>0</td>\n",
       "    </tr>\n",
       "    <tr>\n",
       "      <th>4</th>\n",
       "      <td>1</td>\n",
       "      <td>17472</td>\n",
       "      <td>3512</td>\n",
       "      <td>35</td>\n",
       "      <td>7.0</td>\n",
       "      <td>257</td>\n",
       "      <td>46</td>\n",
       "      <td>No</td>\n",
       "      <td>7</td>\n",
       "      <td>5</td>\n",
       "      <td>...</td>\n",
       "      <td>No</td>\n",
       "      <td>No</td>\n",
       "      <td>0</td>\n",
       "      <td>0</td>\n",
       "      <td>0</td>\n",
       "      <td>0</td>\n",
       "      <td>0</td>\n",
       "      <td>0</td>\n",
       "      <td>0</td>\n",
       "      <td>1</td>\n",
       "    </tr>\n",
       "    <tr>\n",
       "      <th>...</th>\n",
       "      <td>...</td>\n",
       "      <td>...</td>\n",
       "      <td>...</td>\n",
       "      <td>...</td>\n",
       "      <td>...</td>\n",
       "      <td>...</td>\n",
       "      <td>...</td>\n",
       "      <td>...</td>\n",
       "      <td>...</td>\n",
       "      <td>...</td>\n",
       "      <td>...</td>\n",
       "      <td>...</td>\n",
       "      <td>...</td>\n",
       "      <td>...</td>\n",
       "      <td>...</td>\n",
       "      <td>...</td>\n",
       "      <td>...</td>\n",
       "      <td>...</td>\n",
       "      <td>...</td>\n",
       "      <td>...</td>\n",
       "      <td>...</td>\n",
       "    </tr>\n",
       "    <tr>\n",
       "      <th>26404</th>\n",
       "      <td>0</td>\n",
       "      <td>16762</td>\n",
       "      <td>5072</td>\n",
       "      <td>36</td>\n",
       "      <td>7.2</td>\n",
       "      <td>206</td>\n",
       "      <td>52</td>\n",
       "      <td>No</td>\n",
       "      <td>7</td>\n",
       "      <td>5</td>\n",
       "      <td>...</td>\n",
       "      <td>No</td>\n",
       "      <td>No</td>\n",
       "      <td>0</td>\n",
       "      <td>0</td>\n",
       "      <td>0</td>\n",
       "      <td>0</td>\n",
       "      <td>0</td>\n",
       "      <td>0</td>\n",
       "      <td>0</td>\n",
       "      <td>0</td>\n",
       "    </tr>\n",
       "    <tr>\n",
       "      <th>26405</th>\n",
       "      <td>0</td>\n",
       "      <td>35765</td>\n",
       "      <td>1440</td>\n",
       "      <td>39</td>\n",
       "      <td>7.8</td>\n",
       "      <td>191</td>\n",
       "      <td>16</td>\n",
       "      <td>No</td>\n",
       "      <td>18</td>\n",
       "      <td>27</td>\n",
       "      <td>...</td>\n",
       "      <td>Yes</td>\n",
       "      <td>No</td>\n",
       "      <td>2</td>\n",
       "      <td>0</td>\n",
       "      <td>2</td>\n",
       "      <td>0</td>\n",
       "      <td>0</td>\n",
       "      <td>1</td>\n",
       "      <td>1</td>\n",
       "      <td>0</td>\n",
       "    </tr>\n",
       "    <tr>\n",
       "      <th>26406</th>\n",
       "      <td>0</td>\n",
       "      <td>15712</td>\n",
       "      <td>4137</td>\n",
       "      <td>34</td>\n",
       "      <td>6.8</td>\n",
       "      <td>218</td>\n",
       "      <td>55</td>\n",
       "      <td>No</td>\n",
       "      <td>3</td>\n",
       "      <td>0</td>\n",
       "      <td>...</td>\n",
       "      <td>No</td>\n",
       "      <td>No</td>\n",
       "      <td>0</td>\n",
       "      <td>0</td>\n",
       "      <td>0</td>\n",
       "      <td>0</td>\n",
       "      <td>0</td>\n",
       "      <td>0</td>\n",
       "      <td>0</td>\n",
       "      <td>0</td>\n",
       "    </tr>\n",
       "    <tr>\n",
       "      <th>26407</th>\n",
       "      <td>1</td>\n",
       "      <td>15850</td>\n",
       "      <td>3220</td>\n",
       "      <td>33</td>\n",
       "      <td>6.6</td>\n",
       "      <td>193</td>\n",
       "      <td>48</td>\n",
       "      <td>No</td>\n",
       "      <td>6</td>\n",
       "      <td>4</td>\n",
       "      <td>...</td>\n",
       "      <td>No</td>\n",
       "      <td>No</td>\n",
       "      <td>0</td>\n",
       "      <td>0</td>\n",
       "      <td>0</td>\n",
       "      <td>0</td>\n",
       "      <td>0</td>\n",
       "      <td>1</td>\n",
       "      <td>1</td>\n",
       "      <td>0</td>\n",
       "    </tr>\n",
       "    <tr>\n",
       "      <th>26408</th>\n",
       "      <td>1</td>\n",
       "      <td>16103</td>\n",
       "      <td>3128</td>\n",
       "      <td>34</td>\n",
       "      <td>6.8</td>\n",
       "      <td>255</td>\n",
       "      <td>44</td>\n",
       "      <td>No</td>\n",
       "      <td>3</td>\n",
       "      <td>2</td>\n",
       "      <td>...</td>\n",
       "      <td>No</td>\n",
       "      <td>No</td>\n",
       "      <td>0</td>\n",
       "      <td>0</td>\n",
       "      <td>0</td>\n",
       "      <td>0</td>\n",
       "      <td>0</td>\n",
       "      <td>0</td>\n",
       "      <td>0</td>\n",
       "      <td>1</td>\n",
       "    </tr>\n",
       "  </tbody>\n",
       "</table>\n",
       "<p>26409 rows × 23 columns</p>\n",
       "</div>"
      ],
      "text/plain": [
       "       blueWins  blueTotalGolds  blueCurrentGolds  blueTotalLevel  \\\n",
       "0             0           14870              2889              32   \n",
       "1             1           14497              2617              33   \n",
       "2             0           15617              1757              34   \n",
       "3             0           15684              1439              35   \n",
       "4             1           17472              3512              35   \n",
       "...         ...             ...               ...             ...   \n",
       "26404         0           16762              5072              36   \n",
       "26405         0           35765              1440              39   \n",
       "26406         0           15712              4137              34   \n",
       "26407         1           15850              3220              33   \n",
       "26408         1           16103              3128              34   \n",
       "\n",
       "       blueAvgLevel  blueTotalMinionKills  blueTotalJungleMinionKills  \\\n",
       "0               6.4                   199                          53   \n",
       "1               6.6                   229                          44   \n",
       "2               6.8                   223                          39   \n",
       "3               7.0                   251                          64   \n",
       "4               7.0                   257                          46   \n",
       "...             ...                   ...                         ...   \n",
       "26404           7.2                   206                          52   \n",
       "26405           7.8                   191                          16   \n",
       "26406           6.8                   218                          55   \n",
       "26407           6.6                   193                          48   \n",
       "26408           6.8                   255                          44   \n",
       "\n",
       "      blueFirstBlood  blueKill  blueDeath  ...  blueFirstTower  \\\n",
       "0                 No         3          9  ...              No   \n",
       "1                 No         2          3  ...              No   \n",
       "2                 No         3         11  ...              No   \n",
       "3                 No         3          4  ...              No   \n",
       "4                 No         7          5  ...              No   \n",
       "...              ...       ...        ...  ...             ...   \n",
       "26404             No         7          5  ...              No   \n",
       "26405             No        18         27  ...             Yes   \n",
       "26406             No         3          0  ...              No   \n",
       "26407             No         6          4  ...              No   \n",
       "26408             No         3          2  ...              No   \n",
       "\n",
       "       blueFirstInhibitor  blueTowerKills blueMidTowerKills blueTopTowerKills  \\\n",
       "0                      No               0                 0                 0   \n",
       "1                      No               0                 0                 0   \n",
       "2                      No               0                 0                 0   \n",
       "3                      No               0                 0                 0   \n",
       "4                      No               0                 0                 0   \n",
       "...                   ...             ...               ...               ...   \n",
       "26404                  No               0                 0                 0   \n",
       "26405                  No               2                 0                 2   \n",
       "26406                  No               0                 0                 0   \n",
       "26407                  No               0                 0                 0   \n",
       "26408                  No               0                 0                 0   \n",
       "\n",
       "       blueBotTowerKills  blueInhibitor  blueFirstDragon  blueDragon  \\\n",
       "0                      0              0                0           0   \n",
       "1                      0              0                0           0   \n",
       "2                      0              0                0           0   \n",
       "3                      0              0                0           0   \n",
       "4                      0              0                0           0   \n",
       "...                  ...            ...              ...         ...   \n",
       "26404                  0              0                0           0   \n",
       "26405                  0              0                1           1   \n",
       "26406                  0              0                0           0   \n",
       "26407                  0              0                1           1   \n",
       "26408                  0              0                0           0   \n",
       "\n",
       "       blueRiftHeralds  \n",
       "0                    0  \n",
       "1                    1  \n",
       "2                    0  \n",
       "3                    0  \n",
       "4                    1  \n",
       "...                ...  \n",
       "26404                0  \n",
       "26405                0  \n",
       "26406                0  \n",
       "26407                0  \n",
       "26408                1  \n",
       "\n",
       "[26409 rows x 23 columns]"
      ]
     },
     "execution_count": 488,
     "metadata": {},
     "output_type": "execute_result"
    }
   ],
   "source": [
    "partidas_10min_blue"
   ]
  },
  {
   "cell_type": "code",
   "execution_count": 489,
   "metadata": {},
   "outputs": [
    {
     "data": {
      "text/html": [
       "<div>\n",
       "<style scoped>\n",
       "    .dataframe tbody tr th:only-of-type {\n",
       "        vertical-align: middle;\n",
       "    }\n",
       "\n",
       "    .dataframe tbody tr th {\n",
       "        vertical-align: top;\n",
       "    }\n",
       "\n",
       "    .dataframe thead th {\n",
       "        text-align: right;\n",
       "    }\n",
       "</style>\n",
       "<table border=\"1\" class=\"dataframe\">\n",
       "  <thead>\n",
       "    <tr style=\"text-align: right;\">\n",
       "      <th></th>\n",
       "      <th>redTotalGolds</th>\n",
       "      <th>redCurrentGolds</th>\n",
       "      <th>redTotalLevel</th>\n",
       "      <th>redAvgLevel</th>\n",
       "      <th>redTotalMinionKills</th>\n",
       "      <th>redTotalJungleMinionKills</th>\n",
       "      <th>redFirstBlood</th>\n",
       "      <th>redKill</th>\n",
       "      <th>redDeath</th>\n",
       "      <th>redAssist</th>\n",
       "      <th>...</th>\n",
       "      <th>redWardKills</th>\n",
       "      <th>redFirstTower</th>\n",
       "      <th>redFirstInhibitor</th>\n",
       "      <th>redTowerKills</th>\n",
       "      <th>redMidTowerKills</th>\n",
       "      <th>redTopTowerKills</th>\n",
       "      <th>redBotTowerKills</th>\n",
       "      <th>redInhibitor</th>\n",
       "      <th>redFirstDragon</th>\n",
       "      <th>redDragon</th>\n",
       "    </tr>\n",
       "  </thead>\n",
       "  <tbody>\n",
       "    <tr>\n",
       "      <th>0</th>\n",
       "      <td>18397</td>\n",
       "      <td>3297</td>\n",
       "      <td>36</td>\n",
       "      <td>7.2</td>\n",
       "      <td>229</td>\n",
       "      <td>32</td>\n",
       "      <td>No</td>\n",
       "      <td>9</td>\n",
       "      <td>3</td>\n",
       "      <td>22</td>\n",
       "      <td>...</td>\n",
       "      <td>8</td>\n",
       "      <td>No</td>\n",
       "      <td>No</td>\n",
       "      <td>0</td>\n",
       "      <td>0</td>\n",
       "      <td>0</td>\n",
       "      <td>0</td>\n",
       "      <td>0</td>\n",
       "      <td>1</td>\n",
       "      <td>1</td>\n",
       "    </tr>\n",
       "    <tr>\n",
       "      <th>1</th>\n",
       "      <td>15893</td>\n",
       "      <td>4778</td>\n",
       "      <td>36</td>\n",
       "      <td>7.2</td>\n",
       "      <td>234</td>\n",
       "      <td>57</td>\n",
       "      <td>No</td>\n",
       "      <td>3</td>\n",
       "      <td>2</td>\n",
       "      <td>2</td>\n",
       "      <td>...</td>\n",
       "      <td>5</td>\n",
       "      <td>No</td>\n",
       "      <td>No</td>\n",
       "      <td>0</td>\n",
       "      <td>0</td>\n",
       "      <td>0</td>\n",
       "      <td>0</td>\n",
       "      <td>0</td>\n",
       "      <td>0</td>\n",
       "      <td>0</td>\n",
       "    </tr>\n",
       "    <tr>\n",
       "      <th>2</th>\n",
       "      <td>20409</td>\n",
       "      <td>4324</td>\n",
       "      <td>37</td>\n",
       "      <td>7.4</td>\n",
       "      <td>236</td>\n",
       "      <td>45</td>\n",
       "      <td>No</td>\n",
       "      <td>11</td>\n",
       "      <td>3</td>\n",
       "      <td>11</td>\n",
       "      <td>...</td>\n",
       "      <td>4</td>\n",
       "      <td>Yes</td>\n",
       "      <td>No</td>\n",
       "      <td>1</td>\n",
       "      <td>0</td>\n",
       "      <td>0</td>\n",
       "      <td>1</td>\n",
       "      <td>0</td>\n",
       "      <td>1</td>\n",
       "      <td>1</td>\n",
       "    </tr>\n",
       "    <tr>\n",
       "      <th>3</th>\n",
       "      <td>16150</td>\n",
       "      <td>3633</td>\n",
       "      <td>35</td>\n",
       "      <td>7.0</td>\n",
       "      <td>256</td>\n",
       "      <td>48</td>\n",
       "      <td>No</td>\n",
       "      <td>4</td>\n",
       "      <td>3</td>\n",
       "      <td>5</td>\n",
       "      <td>...</td>\n",
       "      <td>7</td>\n",
       "      <td>No</td>\n",
       "      <td>No</td>\n",
       "      <td>0</td>\n",
       "      <td>0</td>\n",
       "      <td>0</td>\n",
       "      <td>0</td>\n",
       "      <td>0</td>\n",
       "      <td>0</td>\n",
       "      <td>0</td>\n",
       "    </tr>\n",
       "    <tr>\n",
       "      <th>4</th>\n",
       "      <td>15588</td>\n",
       "      <td>3323</td>\n",
       "      <td>34</td>\n",
       "      <td>6.8</td>\n",
       "      <td>194</td>\n",
       "      <td>56</td>\n",
       "      <td>No</td>\n",
       "      <td>5</td>\n",
       "      <td>7</td>\n",
       "      <td>7</td>\n",
       "      <td>...</td>\n",
       "      <td>3</td>\n",
       "      <td>No</td>\n",
       "      <td>No</td>\n",
       "      <td>0</td>\n",
       "      <td>0</td>\n",
       "      <td>0</td>\n",
       "      <td>0</td>\n",
       "      <td>0</td>\n",
       "      <td>0</td>\n",
       "      <td>0</td>\n",
       "    </tr>\n",
       "    <tr>\n",
       "      <th>...</th>\n",
       "      <td>...</td>\n",
       "      <td>...</td>\n",
       "      <td>...</td>\n",
       "      <td>...</td>\n",
       "      <td>...</td>\n",
       "      <td>...</td>\n",
       "      <td>...</td>\n",
       "      <td>...</td>\n",
       "      <td>...</td>\n",
       "      <td>...</td>\n",
       "      <td>...</td>\n",
       "      <td>...</td>\n",
       "      <td>...</td>\n",
       "      <td>...</td>\n",
       "      <td>...</td>\n",
       "      <td>...</td>\n",
       "      <td>...</td>\n",
       "      <td>...</td>\n",
       "      <td>...</td>\n",
       "      <td>...</td>\n",
       "      <td>...</td>\n",
       "    </tr>\n",
       "    <tr>\n",
       "      <th>26404</th>\n",
       "      <td>14779</td>\n",
       "      <td>3709</td>\n",
       "      <td>36</td>\n",
       "      <td>7.2</td>\n",
       "      <td>205</td>\n",
       "      <td>67</td>\n",
       "      <td>No</td>\n",
       "      <td>5</td>\n",
       "      <td>7</td>\n",
       "      <td>1</td>\n",
       "      <td>...</td>\n",
       "      <td>4</td>\n",
       "      <td>No</td>\n",
       "      <td>No</td>\n",
       "      <td>0</td>\n",
       "      <td>0</td>\n",
       "      <td>0</td>\n",
       "      <td>0</td>\n",
       "      <td>0</td>\n",
       "      <td>1</td>\n",
       "      <td>1</td>\n",
       "    </tr>\n",
       "    <tr>\n",
       "      <th>26405</th>\n",
       "      <td>42001</td>\n",
       "      <td>9568</td>\n",
       "      <td>44</td>\n",
       "      <td>8.8</td>\n",
       "      <td>279</td>\n",
       "      <td>73</td>\n",
       "      <td>No</td>\n",
       "      <td>27</td>\n",
       "      <td>18</td>\n",
       "      <td>20</td>\n",
       "      <td>...</td>\n",
       "      <td>0</td>\n",
       "      <td>No</td>\n",
       "      <td>No</td>\n",
       "      <td>3</td>\n",
       "      <td>1</td>\n",
       "      <td>0</td>\n",
       "      <td>2</td>\n",
       "      <td>0</td>\n",
       "      <td>0</td>\n",
       "      <td>0</td>\n",
       "    </tr>\n",
       "    <tr>\n",
       "      <th>26406</th>\n",
       "      <td>14845</td>\n",
       "      <td>1345</td>\n",
       "      <td>34</td>\n",
       "      <td>6.8</td>\n",
       "      <td>239</td>\n",
       "      <td>60</td>\n",
       "      <td>No</td>\n",
       "      <td>0</td>\n",
       "      <td>3</td>\n",
       "      <td>0</td>\n",
       "      <td>...</td>\n",
       "      <td>3</td>\n",
       "      <td>No</td>\n",
       "      <td>No</td>\n",
       "      <td>0</td>\n",
       "      <td>0</td>\n",
       "      <td>0</td>\n",
       "      <td>0</td>\n",
       "      <td>0</td>\n",
       "      <td>0</td>\n",
       "      <td>0</td>\n",
       "    </tr>\n",
       "    <tr>\n",
       "      <th>26407</th>\n",
       "      <td>14773</td>\n",
       "      <td>3673</td>\n",
       "      <td>33</td>\n",
       "      <td>6.6</td>\n",
       "      <td>204</td>\n",
       "      <td>52</td>\n",
       "      <td>No</td>\n",
       "      <td>4</td>\n",
       "      <td>6</td>\n",
       "      <td>8</td>\n",
       "      <td>...</td>\n",
       "      <td>4</td>\n",
       "      <td>No</td>\n",
       "      <td>No</td>\n",
       "      <td>0</td>\n",
       "      <td>0</td>\n",
       "      <td>0</td>\n",
       "      <td>0</td>\n",
       "      <td>0</td>\n",
       "      <td>0</td>\n",
       "      <td>0</td>\n",
       "    </tr>\n",
       "    <tr>\n",
       "      <th>26408</th>\n",
       "      <td>14883</td>\n",
       "      <td>2023</td>\n",
       "      <td>34</td>\n",
       "      <td>6.8</td>\n",
       "      <td>256</td>\n",
       "      <td>44</td>\n",
       "      <td>No</td>\n",
       "      <td>2</td>\n",
       "      <td>3</td>\n",
       "      <td>3</td>\n",
       "      <td>...</td>\n",
       "      <td>6</td>\n",
       "      <td>No</td>\n",
       "      <td>No</td>\n",
       "      <td>0</td>\n",
       "      <td>0</td>\n",
       "      <td>0</td>\n",
       "      <td>0</td>\n",
       "      <td>0</td>\n",
       "      <td>1</td>\n",
       "      <td>1</td>\n",
       "    </tr>\n",
       "  </tbody>\n",
       "</table>\n",
       "<p>26409 rows × 21 columns</p>\n",
       "</div>"
      ],
      "text/plain": [
       "       redTotalGolds  redCurrentGolds  redTotalLevel  redAvgLevel  \\\n",
       "0              18397             3297             36          7.2   \n",
       "1              15893             4778             36          7.2   \n",
       "2              20409             4324             37          7.4   \n",
       "3              16150             3633             35          7.0   \n",
       "4              15588             3323             34          6.8   \n",
       "...              ...              ...            ...          ...   \n",
       "26404          14779             3709             36          7.2   \n",
       "26405          42001             9568             44          8.8   \n",
       "26406          14845             1345             34          6.8   \n",
       "26407          14773             3673             33          6.6   \n",
       "26408          14883             2023             34          6.8   \n",
       "\n",
       "       redTotalMinionKills  redTotalJungleMinionKills redFirstBlood  redKill  \\\n",
       "0                      229                         32            No        9   \n",
       "1                      234                         57            No        3   \n",
       "2                      236                         45            No       11   \n",
       "3                      256                         48            No        4   \n",
       "4                      194                         56            No        5   \n",
       "...                    ...                        ...           ...      ...   \n",
       "26404                  205                         67            No        5   \n",
       "26405                  279                         73            No       27   \n",
       "26406                  239                         60            No        0   \n",
       "26407                  204                         52            No        4   \n",
       "26408                  256                         44            No        2   \n",
       "\n",
       "       redDeath  redAssist  ...  redWardKills  redFirstTower  \\\n",
       "0             3         22  ...             8             No   \n",
       "1             2          2  ...             5             No   \n",
       "2             3         11  ...             4            Yes   \n",
       "3             3          5  ...             7             No   \n",
       "4             7          7  ...             3             No   \n",
       "...         ...        ...  ...           ...            ...   \n",
       "26404         7          1  ...             4             No   \n",
       "26405        18         20  ...             0             No   \n",
       "26406         3          0  ...             3             No   \n",
       "26407         6          8  ...             4             No   \n",
       "26408         3          3  ...             6             No   \n",
       "\n",
       "      redFirstInhibitor redTowerKills  redMidTowerKills  redTopTowerKills  \\\n",
       "0                    No             0                 0                 0   \n",
       "1                    No             0                 0                 0   \n",
       "2                    No             1                 0                 0   \n",
       "3                    No             0                 0                 0   \n",
       "4                    No             0                 0                 0   \n",
       "...                 ...           ...               ...               ...   \n",
       "26404                No             0                 0                 0   \n",
       "26405                No             3                 1                 0   \n",
       "26406                No             0                 0                 0   \n",
       "26407                No             0                 0                 0   \n",
       "26408                No             0                 0                 0   \n",
       "\n",
       "       redBotTowerKills  redInhibitor  redFirstDragon  redDragon  \n",
       "0                     0             0               1          1  \n",
       "1                     0             0               0          0  \n",
       "2                     1             0               1          1  \n",
       "3                     0             0               0          0  \n",
       "4                     0             0               0          0  \n",
       "...                 ...           ...             ...        ...  \n",
       "26404                 0             0               1          1  \n",
       "26405                 2             0               0          0  \n",
       "26406                 0             0               0          0  \n",
       "26407                 0             0               0          0  \n",
       "26408                 0             0               1          1  \n",
       "\n",
       "[26409 rows x 21 columns]"
      ]
     },
     "execution_count": 489,
     "metadata": {},
     "output_type": "execute_result"
    }
   ],
   "source": [
    "partidas_10min_red"
   ]
  },
  {
   "cell_type": "markdown",
   "metadata": {},
   "source": [
    "Para poder realizar nossa predição, precisamos utilizar algum tipo de regressão."
   ]
  },
  {
   "cell_type": "markdown",
   "metadata": {},
   "source": [
    "___\n",
    "## **REALIZANDO A REGRESSÃO LOGIT**\n",
    "___"
   ]
  },
  {
   "cell_type": "markdown",
   "metadata": {},
   "source": [
    "Em uma regressão, utilizamos diferentes variáveis explicativas para explicar uma variável independente (target). No caso do nosso banco de dados, queremos prever a vitória de um time com os dados fornecidos."
   ]
  },
  {
   "cell_type": "markdown",
   "metadata": {},
   "source": [
    "Normalmente, utilizaríamos uma regressão múltipla para achar os dados mais relevantes e fazer uma predição. Porém, como a nossa variável target é binária (vitória ou derrota), essa regressão não pode ser utilizada.\n",
    "\n",
    "Por conta disso, vamos utilizar uma outra regressão: **a regressão logit**."
   ]
  },
  {
   "cell_type": "markdown",
   "metadata": {},
   "source": [
    "Para entender em detalhes, siga os links na referência."
   ]
  },
  {
   "cell_type": "markdown",
   "metadata": {},
   "source": [
    "A regressão logit parte do princípio de um resultado binário: sucesso ou falha, vitória ou derrota. Para isso, a regressão analisa as probabilidades de sucesso.\n",
    "\n",
    "Vamos utilizar um exemplo simples para visualizar como isso funciona:"
   ]
  },
  {
   "cell_type": "markdown",
   "metadata": {},
   "source": [
    "Digamos que, ao jogar uma moeda, queremos que caia coroa. Como essa moeda tem apenas dois lados (cara e coroa), temos uma probabilidade de 50% de sucesso."
   ]
  },
  {
   "cell_type": "code",
   "execution_count": 490,
   "metadata": {},
   "outputs": [],
   "source": [
    "exemplo = .5"
   ]
  },
  {
   "cell_type": "markdown",
   "metadata": {},
   "source": [
    "Mas qual é a chance de sucesso?"
   ]
  },
  {
   "cell_type": "markdown",
   "metadata": {},
   "source": [
    "Essa chance é medida como a razão entre a probabilidade de sucesso e a probabilidade de falha."
   ]
  },
  {
   "cell_type": "code",
   "execution_count": 491,
   "metadata": {},
   "outputs": [
    {
     "name": "stdout",
     "output_type": "stream",
     "text": [
      "Chances de sucesso: 1.0 para 1.\n"
     ]
    }
   ],
   "source": [
    "exemplo_c = 1-exemplo\n",
    "\n",
    "chances = exemplo/exemplo_c\n",
    "print(\"Chances de sucesso:\",chances,\"para 1.\")"
   ]
  },
  {
   "cell_type": "markdown",
   "metadata": {},
   "source": [
    "Para entender melhor como esse conceito se aplica à regressão logit, siga [esse link](https://stats.oarc.ucla.edu/other/mult-pkg/faq/general/faq-how-do-i-interpret-odds-ratios-in-logistic-regression/)."
   ]
  },
  {
   "cell_type": "markdown",
   "metadata": {},
   "source": [
    "Mas chega de explicações, estamos enrolando muito. Para começar, vamos montar uma função que faz a regressão logit dado um conjunto de dados."
   ]
  },
  {
   "cell_type": "code",
   "execution_count": 492,
   "metadata": {},
   "outputs": [],
   "source": [
    "def regress(Y): # Y é o banco de dados que iremos utilizar.\n",
    "    columns = list(Y.columns)\n",
    "    formula_string = columns[0] + ' ~ ' # Essa é a string que realiza a fórmula da nossa regressão.\n",
    "    \n",
    "    i = 1\n",
    "    while i < len(columns): # Itera sobre as colunas explicativas.\n",
    "        col = columns[i]\n",
    "        formula_string += col\n",
    "        if i < len(columns)-1:\n",
    "            formula_string += ' + '\n",
    "        i += 1\n",
    "\n",
    "    model = smf.logit(formula_string, data=Y) # Realiza a regressão e retorna os resultados.\n",
    "    results = model.fit()\n",
    "    \n",
    "    return results"
   ]
  },
  {
   "cell_type": "markdown",
   "metadata": {},
   "source": [
    "Agora, vamos usar essa nossa função para analisar os dados da nossa base de dados dos jogos até 10 minutos."
   ]
  },
  {
   "cell_type": "code",
   "execution_count": 493,
   "metadata": {},
   "outputs": [
    {
     "name": "stdout",
     "output_type": "stream",
     "text": [
      "Warning: Maximum number of iterations has been exceeded.\n",
      "         Current function value: 0.537835\n",
      "         Iterations: 35\n"
     ]
    },
    {
     "name": "stderr",
     "output_type": "stream",
     "text": [
      "c:\\Users\\Victor Cunha\\anaconda3\\lib\\site-packages\\statsmodels\\discrete\\discrete_model.py:1819: RuntimeWarning: overflow encountered in exp\n",
      "  return 1/(1+np.exp(-X))\n",
      "c:\\Users\\Victor Cunha\\anaconda3\\lib\\site-packages\\statsmodels\\base\\model.py:604: ConvergenceWarning: Maximum Likelihood optimization failed to converge. Check mle_retvals\n",
      "  warnings.warn(\"Maximum Likelihood optimization failed to \"\n",
      "c:\\Users\\Victor Cunha\\anaconda3\\lib\\site-packages\\statsmodels\\discrete\\discrete_model.py:1819: RuntimeWarning: overflow encountered in exp\n",
      "  return 1/(1+np.exp(-X))\n"
     ]
    },
    {
     "data": {
      "text/html": [
       "<table class=\"simpletable\">\n",
       "<caption>Logit Regression Results</caption>\n",
       "<tr>\n",
       "  <th>Dep. Variable:</th>       <td>blueWins</td>     <th>  No. Observations:  </th>  <td> 26409</td> \n",
       "</tr>\n",
       "<tr>\n",
       "  <th>Model:</th>                 <td>Logit</td>      <th>  Df Residuals:      </th>  <td> 26389</td> \n",
       "</tr>\n",
       "<tr>\n",
       "  <th>Method:</th>                 <td>MLE</td>       <th>  Df Model:          </th>  <td>    19</td> \n",
       "</tr>\n",
       "<tr>\n",
       "  <th>Date:</th>            <td>Thu, 16 May 2024</td> <th>  Pseudo R-squ.:     </th>  <td>0.2241</td> \n",
       "</tr>\n",
       "<tr>\n",
       "  <th>Time:</th>                <td>17:53:57</td>     <th>  Log-Likelihood:    </th> <td> -14204.</td>\n",
       "</tr>\n",
       "<tr>\n",
       "  <th>converged:</th>             <td>False</td>      <th>  LL-Null:           </th> <td> -18305.</td>\n",
       "</tr>\n",
       "<tr>\n",
       "  <th>Covariance Type:</th>     <td>nonrobust</td>    <th>  LLR p-value:       </th>  <td> 0.000</td> \n",
       "</tr>\n",
       "</table>\n",
       "<table class=\"simpletable\">\n",
       "<tr>\n",
       "               <td></td>                 <th>coef</th>     <th>std err</th>      <th>z</th>      <th>P>|z|</th>  <th>[0.025</th>    <th>0.975]</th>  \n",
       "</tr>\n",
       "<tr>\n",
       "  <th>Intercept</th>                  <td>   -5.0780</td> <td>    0.275</td> <td>  -18.472</td> <td> 0.000</td> <td>   -5.617</td> <td>   -4.539</td>\n",
       "</tr>\n",
       "<tr>\n",
       "  <th>blueFirstTower[T.Yes]</th>      <td>    0.3986</td> <td>    0.108</td> <td>    3.700</td> <td> 0.000</td> <td>    0.187</td> <td>    0.610</td>\n",
       "</tr>\n",
       "<tr>\n",
       "  <th>blueFirstInhibitor[T.Yes]</th>  <td>  7.33e+04</td> <td> 3.28e+07</td> <td>    0.002</td> <td> 0.998</td> <td>-6.43e+07</td> <td> 6.44e+07</td>\n",
       "</tr>\n",
       "<tr>\n",
       "  <th>blueTotalGolds</th>             <td> 6.274e-05</td> <td> 1.49e-05</td> <td>    4.223</td> <td> 0.000</td> <td> 3.36e-05</td> <td> 9.19e-05</td>\n",
       "</tr>\n",
       "<tr>\n",
       "  <th>blueCurrentGolds</th>           <td> 7.707e-07</td> <td> 1.23e-05</td> <td>    0.063</td> <td> 0.950</td> <td>-2.34e-05</td> <td> 2.49e-05</td>\n",
       "</tr>\n",
       "<tr>\n",
       "  <th>blueTotalLevel</th>             <td>    0.0463</td> <td>      nan</td> <td>      nan</td> <td>   nan</td> <td>      nan</td> <td>      nan</td>\n",
       "</tr>\n",
       "<tr>\n",
       "  <th>blueAvgLevel</th>               <td>    0.0090</td> <td>      nan</td> <td>      nan</td> <td>   nan</td> <td>      nan</td> <td>      nan</td>\n",
       "</tr>\n",
       "<tr>\n",
       "  <th>blueTotalMinionKills</th>       <td>    0.0076</td> <td>    0.001</td> <td>   10.890</td> <td> 0.000</td> <td>    0.006</td> <td>    0.009</td>\n",
       "</tr>\n",
       "<tr>\n",
       "  <th>blueTotalJungleMinionKills</th> <td>    0.0106</td> <td>    0.001</td> <td>    7.197</td> <td> 0.000</td> <td>    0.008</td> <td>    0.014</td>\n",
       "</tr>\n",
       "<tr>\n",
       "  <th>blueKill</th>                   <td>    0.2329</td> <td>    0.009</td> <td>   26.891</td> <td> 0.000</td> <td>    0.216</td> <td>    0.250</td>\n",
       "</tr>\n",
       "<tr>\n",
       "  <th>blueDeath</th>                  <td>   -0.2377</td> <td>    0.005</td> <td>  -45.070</td> <td> 0.000</td> <td>   -0.248</td> <td>   -0.227</td>\n",
       "</tr>\n",
       "<tr>\n",
       "  <th>blueAssist</th>                 <td>   -0.0068</td> <td>    0.004</td> <td>   -1.853</td> <td> 0.064</td> <td>   -0.014</td> <td>    0.000</td>\n",
       "</tr>\n",
       "<tr>\n",
       "  <th>blueWardPlaced</th>             <td>   -0.0003</td> <td>    0.001</td> <td>   -0.337</td> <td> 0.736</td> <td>   -0.002</td> <td>    0.001</td>\n",
       "</tr>\n",
       "<tr>\n",
       "  <th>blueWardKills</th>              <td>    0.0054</td> <td>    0.006</td> <td>    0.900</td> <td> 0.368</td> <td>   -0.006</td> <td>    0.017</td>\n",
       "</tr>\n",
       "<tr>\n",
       "  <th>blueTowerKills</th>             <td>   -0.2158</td> <td>      nan</td> <td>      nan</td> <td>   nan</td> <td>      nan</td> <td>      nan</td>\n",
       "</tr>\n",
       "<tr>\n",
       "  <th>blueMidTowerKills</th>          <td>    0.0403</td> <td>      nan</td> <td>      nan</td> <td>   nan</td> <td>      nan</td> <td>      nan</td>\n",
       "</tr>\n",
       "<tr>\n",
       "  <th>blueTopTowerKills</th>          <td>   -0.2228</td> <td>      nan</td> <td>      nan</td> <td>   nan</td> <td>      nan</td> <td>      nan</td>\n",
       "</tr>\n",
       "<tr>\n",
       "  <th>blueBotTowerKills</th>          <td>   -0.0333</td> <td>      nan</td> <td>      nan</td> <td>   nan</td> <td>      nan</td> <td>      nan</td>\n",
       "</tr>\n",
       "<tr>\n",
       "  <th>blueInhibitor</th>              <td>-7.329e+04</td> <td> 3.28e+07</td> <td>   -0.002</td> <td> 0.998</td> <td>-6.44e+07</td> <td> 6.43e+07</td>\n",
       "</tr>\n",
       "<tr>\n",
       "  <th>blueFirstDragon</th>            <td>    1.1390</td> <td>    0.362</td> <td>    3.147</td> <td> 0.002</td> <td>    0.430</td> <td>    1.848</td>\n",
       "</tr>\n",
       "<tr>\n",
       "  <th>blueDragon</th>                 <td>   -0.6567</td> <td>    0.360</td> <td>   -1.823</td> <td> 0.068</td> <td>   -1.363</td> <td>    0.049</td>\n",
       "</tr>\n",
       "<tr>\n",
       "  <th>blueRiftHeralds</th>            <td>    0.1628</td> <td>    0.038</td> <td>    4.240</td> <td> 0.000</td> <td>    0.088</td> <td>    0.238</td>\n",
       "</tr>\n",
       "</table>"
      ],
      "text/plain": [
       "<class 'statsmodels.iolib.summary.Summary'>\n",
       "\"\"\"\n",
       "                           Logit Regression Results                           \n",
       "==============================================================================\n",
       "Dep. Variable:               blueWins   No. Observations:                26409\n",
       "Model:                          Logit   Df Residuals:                    26389\n",
       "Method:                           MLE   Df Model:                           19\n",
       "Date:                Thu, 16 May 2024   Pseudo R-squ.:                  0.2241\n",
       "Time:                        17:53:57   Log-Likelihood:                -14204.\n",
       "converged:                      False   LL-Null:                       -18305.\n",
       "Covariance Type:            nonrobust   LLR p-value:                     0.000\n",
       "==============================================================================================\n",
       "                                 coef    std err          z      P>|z|      [0.025      0.975]\n",
       "----------------------------------------------------------------------------------------------\n",
       "Intercept                     -5.0780      0.275    -18.472      0.000      -5.617      -4.539\n",
       "blueFirstTower[T.Yes]          0.3986      0.108      3.700      0.000       0.187       0.610\n",
       "blueFirstInhibitor[T.Yes]    7.33e+04   3.28e+07      0.002      0.998   -6.43e+07    6.44e+07\n",
       "blueTotalGolds              6.274e-05   1.49e-05      4.223      0.000    3.36e-05    9.19e-05\n",
       "blueCurrentGolds            7.707e-07   1.23e-05      0.063      0.950   -2.34e-05    2.49e-05\n",
       "blueTotalLevel                 0.0463        nan        nan        nan         nan         nan\n",
       "blueAvgLevel                   0.0090        nan        nan        nan         nan         nan\n",
       "blueTotalMinionKills           0.0076      0.001     10.890      0.000       0.006       0.009\n",
       "blueTotalJungleMinionKills     0.0106      0.001      7.197      0.000       0.008       0.014\n",
       "blueKill                       0.2329      0.009     26.891      0.000       0.216       0.250\n",
       "blueDeath                     -0.2377      0.005    -45.070      0.000      -0.248      -0.227\n",
       "blueAssist                    -0.0068      0.004     -1.853      0.064      -0.014       0.000\n",
       "blueWardPlaced                -0.0003      0.001     -0.337      0.736      -0.002       0.001\n",
       "blueWardKills                  0.0054      0.006      0.900      0.368      -0.006       0.017\n",
       "blueTowerKills                -0.2158        nan        nan        nan         nan         nan\n",
       "blueMidTowerKills              0.0403        nan        nan        nan         nan         nan\n",
       "blueTopTowerKills             -0.2228        nan        nan        nan         nan         nan\n",
       "blueBotTowerKills             -0.0333        nan        nan        nan         nan         nan\n",
       "blueInhibitor              -7.329e+04   3.28e+07     -0.002      0.998   -6.44e+07    6.43e+07\n",
       "blueFirstDragon                1.1390      0.362      3.147      0.002       0.430       1.848\n",
       "blueDragon                    -0.6567      0.360     -1.823      0.068      -1.363       0.049\n",
       "blueRiftHeralds                0.1628      0.038      4.240      0.000       0.088       0.238\n",
       "==============================================================================================\n",
       "\"\"\""
      ]
     },
     "execution_count": 493,
     "metadata": {},
     "output_type": "execute_result"
    }
   ],
   "source": [
    "results = regress(partidas_10min_blue) # Estamos olhando apenas o time azul.\n",
    "results.summary()"
   ]
  },
  {
   "cell_type": "markdown",
   "metadata": {},
   "source": [
    "Nossa. São **MUITOS** dados. E **MUITOS** números. Como que partimos daqui?"
   ]
  },
  {
   "cell_type": "markdown",
   "metadata": {},
   "source": [
    "____\n",
    "## **MELHORANDO NOSSA REGRESSÃO**\n",
    "____"
   ]
  },
  {
   "cell_type": "markdown",
   "metadata": {},
   "source": [
    "Nos resultados acima, o resultado que mais vai importar para nós, no momento, é a coluna P>|z|, que mostra os *valores-p* de cada uma das nossas variáveis explicativas."
   ]
  },
  {
   "cell_type": "markdown",
   "metadata": {},
   "source": [
    "O valor-p está diretamente relacionado com um número chamado *nível de significância*, que é, basicamente, o nível de precisão que queremos dos nossos dados. Esse valor é utilizado para diversos tipos de distribuições para encontrar erros, valores médios, etc."
   ]
  },
  {
   "cell_type": "markdown",
   "metadata": {},
   "source": [
    "Para essa regressão, vamos adotar um nível de significância de 10%. Isso significa que **o *valor-p* de cada variável não pode passar de 10%, ou 0.1**."
   ]
  },
  {
   "cell_type": "markdown",
   "metadata": {},
   "source": [
    "Portanto, vamos remover da nossa análise a variável com o maior valor-p acima de 10%, que é *blueInhibitor*, e realizar uma nova regressão."
   ]
  },
  {
   "cell_type": "code",
   "execution_count": 494,
   "metadata": {},
   "outputs": [
    {
     "name": "stdout",
     "output_type": "stream",
     "text": [
      "Optimization terminated successfully.\n",
      "         Current function value: 0.537838\n",
      "         Iterations 11\n"
     ]
    },
    {
     "data": {
      "text/html": [
       "<table class=\"simpletable\">\n",
       "<caption>Logit Regression Results</caption>\n",
       "<tr>\n",
       "  <th>Dep. Variable:</th>       <td>blueWins</td>     <th>  No. Observations:  </th>  <td> 26409</td> \n",
       "</tr>\n",
       "<tr>\n",
       "  <th>Model:</th>                 <td>Logit</td>      <th>  Df Residuals:      </th>  <td> 26390</td> \n",
       "</tr>\n",
       "<tr>\n",
       "  <th>Method:</th>                 <td>MLE</td>       <th>  Df Model:          </th>  <td>    18</td> \n",
       "</tr>\n",
       "<tr>\n",
       "  <th>Date:</th>            <td>Thu, 16 May 2024</td> <th>  Pseudo R-squ.:     </th>  <td>0.2241</td> \n",
       "</tr>\n",
       "<tr>\n",
       "  <th>Time:</th>                <td>17:53:57</td>     <th>  Log-Likelihood:    </th> <td> -14204.</td>\n",
       "</tr>\n",
       "<tr>\n",
       "  <th>converged:</th>             <td>True</td>       <th>  LL-Null:           </th> <td> -18305.</td>\n",
       "</tr>\n",
       "<tr>\n",
       "  <th>Covariance Type:</th>     <td>nonrobust</td>    <th>  LLR p-value:       </th>  <td> 0.000</td> \n",
       "</tr>\n",
       "</table>\n",
       "<table class=\"simpletable\">\n",
       "<tr>\n",
       "               <td></td>                 <th>coef</th>     <th>std err</th>      <th>z</th>      <th>P>|z|</th>  <th>[0.025</th>    <th>0.975]</th>  \n",
       "</tr>\n",
       "<tr>\n",
       "  <th>Intercept</th>                  <td>   -5.0793</td> <td>    0.275</td> <td>  -18.479</td> <td> 0.000</td> <td>   -5.618</td> <td>   -4.541</td>\n",
       "</tr>\n",
       "<tr>\n",
       "  <th>blueFirstTower[T.Yes]</th>      <td>    0.4004</td> <td>    0.107</td> <td>    3.725</td> <td> 0.000</td> <td>    0.190</td> <td>    0.611</td>\n",
       "</tr>\n",
       "<tr>\n",
       "  <th>blueFirstInhibitor[T.Yes]</th>  <td>    0.6153</td> <td>    0.318</td> <td>    1.934</td> <td> 0.053</td> <td>   -0.008</td> <td>    1.239</td>\n",
       "</tr>\n",
       "<tr>\n",
       "  <th>blueTotalGolds</th>             <td>  6.28e-05</td> <td> 1.49e-05</td> <td>    4.228</td> <td> 0.000</td> <td> 3.37e-05</td> <td> 9.19e-05</td>\n",
       "</tr>\n",
       "<tr>\n",
       "  <th>blueCurrentGolds</th>           <td> 7.851e-07</td> <td> 1.23e-05</td> <td>    0.064</td> <td> 0.949</td> <td>-2.34e-05</td> <td> 2.49e-05</td>\n",
       "</tr>\n",
       "<tr>\n",
       "  <th>blueTotalLevel</th>             <td>    0.0462</td> <td> 2.15e+04</td> <td> 2.15e-06</td> <td> 1.000</td> <td>-4.21e+04</td> <td> 4.21e+04</td>\n",
       "</tr>\n",
       "<tr>\n",
       "  <th>blueAvgLevel</th>               <td>    0.0092</td> <td> 1.07e+05</td> <td>  8.6e-08</td> <td> 1.000</td> <td>-2.11e+05</td> <td> 2.11e+05</td>\n",
       "</tr>\n",
       "<tr>\n",
       "  <th>blueTotalMinionKills</th>       <td>    0.0076</td> <td>    0.001</td> <td>   10.895</td> <td> 0.000</td> <td>    0.006</td> <td>    0.009</td>\n",
       "</tr>\n",
       "<tr>\n",
       "  <th>blueTotalJungleMinionKills</th> <td>    0.0107</td> <td>    0.001</td> <td>    7.199</td> <td> 0.000</td> <td>    0.008</td> <td>    0.014</td>\n",
       "</tr>\n",
       "<tr>\n",
       "  <th>blueKill</th>                   <td>    0.2329</td> <td>    0.009</td> <td>   26.890</td> <td> 0.000</td> <td>    0.216</td> <td>    0.250</td>\n",
       "</tr>\n",
       "<tr>\n",
       "  <th>blueDeath</th>                  <td>   -0.2377</td> <td>    0.005</td> <td>  -45.069</td> <td> 0.000</td> <td>   -0.248</td> <td>   -0.227</td>\n",
       "</tr>\n",
       "<tr>\n",
       "  <th>blueAssist</th>                 <td>   -0.0068</td> <td>    0.004</td> <td>   -1.851</td> <td> 0.064</td> <td>   -0.014</td> <td>    0.000</td>\n",
       "</tr>\n",
       "<tr>\n",
       "  <th>blueWardPlaced</th>             <td>   -0.0003</td> <td>    0.001</td> <td>   -0.337</td> <td> 0.736</td> <td>   -0.002</td> <td>    0.001</td>\n",
       "</tr>\n",
       "<tr>\n",
       "  <th>blueWardKills</th>              <td>    0.0054</td> <td>    0.006</td> <td>    0.900</td> <td> 0.368</td> <td>   -0.006</td> <td>    0.017</td>\n",
       "</tr>\n",
       "<tr>\n",
       "  <th>blueTowerKills</th>             <td>   -0.2171</td> <td> 1.84e+06</td> <td>-1.18e-07</td> <td> 1.000</td> <td> -3.6e+06</td> <td>  3.6e+06</td>\n",
       "</tr>\n",
       "<tr>\n",
       "  <th>blueMidTowerKills</th>          <td>    0.0394</td> <td> 1.84e+06</td> <td> 2.14e-08</td> <td> 1.000</td> <td> -3.6e+06</td> <td>  3.6e+06</td>\n",
       "</tr>\n",
       "<tr>\n",
       "  <th>blueTopTowerKills</th>          <td>   -0.2227</td> <td> 1.84e+06</td> <td>-1.21e-07</td> <td> 1.000</td> <td> -3.6e+06</td> <td>  3.6e+06</td>\n",
       "</tr>\n",
       "<tr>\n",
       "  <th>blueBotTowerKills</th>          <td>   -0.0337</td> <td> 1.84e+06</td> <td>-1.84e-08</td> <td> 1.000</td> <td> -3.6e+06</td> <td>  3.6e+06</td>\n",
       "</tr>\n",
       "<tr>\n",
       "  <th>blueFirstDragon</th>            <td>    1.1385</td> <td>    0.362</td> <td>    3.146</td> <td> 0.002</td> <td>    0.429</td> <td>    1.848</td>\n",
       "</tr>\n",
       "<tr>\n",
       "  <th>blueDragon</th>                 <td>   -0.6562</td> <td>    0.360</td> <td>   -1.822</td> <td> 0.068</td> <td>   -1.362</td> <td>    0.050</td>\n",
       "</tr>\n",
       "<tr>\n",
       "  <th>blueRiftHeralds</th>            <td>    0.1627</td> <td>    0.038</td> <td>    4.239</td> <td> 0.000</td> <td>    0.087</td> <td>    0.238</td>\n",
       "</tr>\n",
       "</table>"
      ],
      "text/plain": [
       "<class 'statsmodels.iolib.summary.Summary'>\n",
       "\"\"\"\n",
       "                           Logit Regression Results                           \n",
       "==============================================================================\n",
       "Dep. Variable:               blueWins   No. Observations:                26409\n",
       "Model:                          Logit   Df Residuals:                    26390\n",
       "Method:                           MLE   Df Model:                           18\n",
       "Date:                Thu, 16 May 2024   Pseudo R-squ.:                  0.2241\n",
       "Time:                        17:53:57   Log-Likelihood:                -14204.\n",
       "converged:                       True   LL-Null:                       -18305.\n",
       "Covariance Type:            nonrobust   LLR p-value:                     0.000\n",
       "==============================================================================================\n",
       "                                 coef    std err          z      P>|z|      [0.025      0.975]\n",
       "----------------------------------------------------------------------------------------------\n",
       "Intercept                     -5.0793      0.275    -18.479      0.000      -5.618      -4.541\n",
       "blueFirstTower[T.Yes]          0.4004      0.107      3.725      0.000       0.190       0.611\n",
       "blueFirstInhibitor[T.Yes]      0.6153      0.318      1.934      0.053      -0.008       1.239\n",
       "blueTotalGolds               6.28e-05   1.49e-05      4.228      0.000    3.37e-05    9.19e-05\n",
       "blueCurrentGolds            7.851e-07   1.23e-05      0.064      0.949   -2.34e-05    2.49e-05\n",
       "blueTotalLevel                 0.0462   2.15e+04   2.15e-06      1.000   -4.21e+04    4.21e+04\n",
       "blueAvgLevel                   0.0092   1.07e+05    8.6e-08      1.000   -2.11e+05    2.11e+05\n",
       "blueTotalMinionKills           0.0076      0.001     10.895      0.000       0.006       0.009\n",
       "blueTotalJungleMinionKills     0.0107      0.001      7.199      0.000       0.008       0.014\n",
       "blueKill                       0.2329      0.009     26.890      0.000       0.216       0.250\n",
       "blueDeath                     -0.2377      0.005    -45.069      0.000      -0.248      -0.227\n",
       "blueAssist                    -0.0068      0.004     -1.851      0.064      -0.014       0.000\n",
       "blueWardPlaced                -0.0003      0.001     -0.337      0.736      -0.002       0.001\n",
       "blueWardKills                  0.0054      0.006      0.900      0.368      -0.006       0.017\n",
       "blueTowerKills                -0.2171   1.84e+06  -1.18e-07      1.000    -3.6e+06     3.6e+06\n",
       "blueMidTowerKills              0.0394   1.84e+06   2.14e-08      1.000    -3.6e+06     3.6e+06\n",
       "blueTopTowerKills             -0.2227   1.84e+06  -1.21e-07      1.000    -3.6e+06     3.6e+06\n",
       "blueBotTowerKills             -0.0337   1.84e+06  -1.84e-08      1.000    -3.6e+06     3.6e+06\n",
       "blueFirstDragon                1.1385      0.362      3.146      0.002       0.429       1.848\n",
       "blueDragon                    -0.6562      0.360     -1.822      0.068      -1.362       0.050\n",
       "blueRiftHeralds                0.1627      0.038      4.239      0.000       0.087       0.238\n",
       "==============================================================================================\n",
       "\"\"\""
      ]
     },
     "execution_count": 494,
     "metadata": {},
     "output_type": "execute_result"
    }
   ],
   "source": [
    "partidas_10min_blue1 = partidas_10min_blue.drop(columns=['blueInhibitor'])\n",
    "results = regress(partidas_10min_blue1)\n",
    "results.summary()"
   ]
  },
  {
   "cell_type": "markdown",
   "metadata": {},
   "source": [
    "Alguns valores mudaram com essa nova análise."
   ]
  },
  {
   "cell_type": "markdown",
   "metadata": {},
   "source": [
    "Vamos repetir esse mesmo processo até que todas as nossas variáveis tenham um valor-p abaixo de 10%."
   ]
  },
  {
   "cell_type": "markdown",
   "metadata": {},
   "source": [
    "**OBS**: *Para simplicidade e remover a poluição visual, os resultados específicos de cada iteração foram escondidos. Basta descomentar a linha e rodar a célula para ver os resultados.*"
   ]
  },
  {
   "cell_type": "code",
   "execution_count": 495,
   "metadata": {},
   "outputs": [
    {
     "name": "stdout",
     "output_type": "stream",
     "text": [
      "Optimization terminated successfully.\n",
      "         Current function value: 0.538857\n",
      "         Iterations 7\n"
     ]
    }
   ],
   "source": [
    "partidas_10min_blue2 = partidas_10min_blue1.drop(columns=['blueTotalLevel','blueAvgLevel','blueTowerKills','blueMidTowerKills','blueTopTowerKills','blueBotTowerKills'])\n",
    "results = regress(partidas_10min_blue2)\n",
    "#results.summary()"
   ]
  },
  {
   "cell_type": "code",
   "execution_count": 496,
   "metadata": {},
   "outputs": [
    {
     "name": "stdout",
     "output_type": "stream",
     "text": [
      "Optimization terminated successfully.\n",
      "         Current function value: 0.538857\n",
      "         Iterations 7\n"
     ]
    }
   ],
   "source": [
    "partidas_10min_blue3 = partidas_10min_blue2.drop(columns=['blueCurrentGolds'])\n",
    "results = regress(partidas_10min_blue3)\n",
    "#results.summary()"
   ]
  },
  {
   "cell_type": "code",
   "execution_count": 497,
   "metadata": {},
   "outputs": [
    {
     "name": "stdout",
     "output_type": "stream",
     "text": [
      "Optimization terminated successfully.\n",
      "         Current function value: 0.538865\n",
      "         Iterations 7\n"
     ]
    }
   ],
   "source": [
    "partidas_10min_blue4 = partidas_10min_blue3.drop(columns=['blueWardPlaced'])\n",
    "results = regress(partidas_10min_blue4)\n",
    "#results.summary()"
   ]
  },
  {
   "cell_type": "code",
   "execution_count": 498,
   "metadata": {},
   "outputs": [
    {
     "name": "stdout",
     "output_type": "stream",
     "text": [
      "Optimization terminated successfully.\n",
      "         Current function value: 0.538873\n",
      "         Iterations 7\n"
     ]
    }
   ],
   "source": [
    "partidas_10min_blue5 = partidas_10min_blue4.drop(columns=['blueWardKills'])\n",
    "results = regress(partidas_10min_blue5)\n",
    "#results.summary()"
   ]
  },
  {
   "cell_type": "code",
   "execution_count": 499,
   "metadata": {},
   "outputs": [
    {
     "name": "stdout",
     "output_type": "stream",
     "text": [
      "Optimization terminated successfully.\n",
      "         Current function value: 0.538883\n",
      "         Iterations 7\n"
     ]
    }
   ],
   "source": [
    "partidas_10min_blue6 = partidas_10min_blue5.drop(columns=['blueFirstTower'])\n",
    "results = regress(partidas_10min_blue6)\n",
    "#results.summary()"
   ]
  },
  {
   "cell_type": "code",
   "execution_count": 500,
   "metadata": {},
   "outputs": [
    {
     "name": "stdout",
     "output_type": "stream",
     "text": [
      "Optimization terminated successfully.\n",
      "         Current function value: 0.538923\n",
      "         Iterations 7\n"
     ]
    }
   ],
   "source": [
    "partidas_10min_blue7 = partidas_10min_blue6.drop(columns=['blueAssist'])\n",
    "results = regress(partidas_10min_blue7)\n",
    "#results.summary()"
   ]
  },
  {
   "cell_type": "code",
   "execution_count": 501,
   "metadata": {},
   "outputs": [
    {
     "name": "stdout",
     "output_type": "stream",
     "text": [
      "Optimization terminated successfully.\n",
      "         Current function value: 0.538975\n",
      "         Iterations 6\n"
     ]
    },
    {
     "data": {
      "text/html": [
       "<table class=\"simpletable\">\n",
       "<caption>Logit Regression Results</caption>\n",
       "<tr>\n",
       "  <th>Dep. Variable:</th>       <td>blueWins</td>     <th>  No. Observations:  </th>  <td> 26409</td> \n",
       "</tr>\n",
       "<tr>\n",
       "  <th>Model:</th>                 <td>Logit</td>      <th>  Df Residuals:      </th>  <td> 26400</td> \n",
       "</tr>\n",
       "<tr>\n",
       "  <th>Method:</th>                 <td>MLE</td>       <th>  Df Model:          </th>  <td>     8</td> \n",
       "</tr>\n",
       "<tr>\n",
       "  <th>Date:</th>            <td>Thu, 16 May 2024</td> <th>  Pseudo R-squ.:     </th>  <td>0.2224</td> \n",
       "</tr>\n",
       "<tr>\n",
       "  <th>Time:</th>                <td>17:53:58</td>     <th>  Log-Likelihood:    </th> <td> -14234.</td>\n",
       "</tr>\n",
       "<tr>\n",
       "  <th>converged:</th>             <td>True</td>       <th>  LL-Null:           </th> <td> -18305.</td>\n",
       "</tr>\n",
       "<tr>\n",
       "  <th>Covariance Type:</th>     <td>nonrobust</td>    <th>  LLR p-value:       </th>  <td> 0.000</td> \n",
       "</tr>\n",
       "</table>\n",
       "<table class=\"simpletable\">\n",
       "<tr>\n",
       "               <td></td>                 <th>coef</th>     <th>std err</th>      <th>z</th>      <th>P>|z|</th>  <th>[0.025</th>    <th>0.975]</th>  \n",
       "</tr>\n",
       "<tr>\n",
       "  <th>Intercept</th>                  <td>   -3.8630</td> <td>    0.188</td> <td>  -20.558</td> <td> 0.000</td> <td>   -4.231</td> <td>   -3.495</td>\n",
       "</tr>\n",
       "<tr>\n",
       "  <th>blueTotalGolds</th>             <td>    0.0001</td> <td> 8.38e-06</td> <td>   13.822</td> <td> 0.000</td> <td> 9.94e-05</td> <td>    0.000</td>\n",
       "</tr>\n",
       "<tr>\n",
       "  <th>blueTotalMinionKills</th>       <td>    0.0065</td> <td>    0.001</td> <td>   10.535</td> <td> 0.000</td> <td>    0.005</td> <td>    0.008</td>\n",
       "</tr>\n",
       "<tr>\n",
       "  <th>blueTotalJungleMinionKills</th> <td>    0.0100</td> <td>    0.001</td> <td>    6.909</td> <td> 0.000</td> <td>    0.007</td> <td>    0.013</td>\n",
       "</tr>\n",
       "<tr>\n",
       "  <th>blueKill</th>                   <td>    0.2139</td> <td>    0.007</td> <td>   31.186</td> <td> 0.000</td> <td>    0.200</td> <td>    0.227</td>\n",
       "</tr>\n",
       "<tr>\n",
       "  <th>blueDeath</th>                  <td>   -0.2472</td> <td>    0.005</td> <td>  -50.357</td> <td> 0.000</td> <td>   -0.257</td> <td>   -0.238</td>\n",
       "</tr>\n",
       "<tr>\n",
       "  <th>blueFirstDragon</th>            <td>    1.6322</td> <td>    0.360</td> <td>    4.536</td> <td> 0.000</td> <td>    0.927</td> <td>    2.337</td>\n",
       "</tr>\n",
       "<tr>\n",
       "  <th>blueDragon</th>                 <td>   -1.1532</td> <td>    0.358</td> <td>   -3.221</td> <td> 0.001</td> <td>   -1.855</td> <td>   -0.451</td>\n",
       "</tr>\n",
       "<tr>\n",
       "  <th>blueRiftHeralds</th>            <td>    0.1552</td> <td>    0.038</td> <td>    4.136</td> <td> 0.000</td> <td>    0.082</td> <td>    0.229</td>\n",
       "</tr>\n",
       "</table>"
      ],
      "text/plain": [
       "<class 'statsmodels.iolib.summary.Summary'>\n",
       "\"\"\"\n",
       "                           Logit Regression Results                           \n",
       "==============================================================================\n",
       "Dep. Variable:               blueWins   No. Observations:                26409\n",
       "Model:                          Logit   Df Residuals:                    26400\n",
       "Method:                           MLE   Df Model:                            8\n",
       "Date:                Thu, 16 May 2024   Pseudo R-squ.:                  0.2224\n",
       "Time:                        17:53:58   Log-Likelihood:                -14234.\n",
       "converged:                       True   LL-Null:                       -18305.\n",
       "Covariance Type:            nonrobust   LLR p-value:                     0.000\n",
       "==============================================================================================\n",
       "                                 coef    std err          z      P>|z|      [0.025      0.975]\n",
       "----------------------------------------------------------------------------------------------\n",
       "Intercept                     -3.8630      0.188    -20.558      0.000      -4.231      -3.495\n",
       "blueTotalGolds                 0.0001   8.38e-06     13.822      0.000    9.94e-05       0.000\n",
       "blueTotalMinionKills           0.0065      0.001     10.535      0.000       0.005       0.008\n",
       "blueTotalJungleMinionKills     0.0100      0.001      6.909      0.000       0.007       0.013\n",
       "blueKill                       0.2139      0.007     31.186      0.000       0.200       0.227\n",
       "blueDeath                     -0.2472      0.005    -50.357      0.000      -0.257      -0.238\n",
       "blueFirstDragon                1.6322      0.360      4.536      0.000       0.927       2.337\n",
       "blueDragon                    -1.1532      0.358     -3.221      0.001      -1.855      -0.451\n",
       "blueRiftHeralds                0.1552      0.038      4.136      0.000       0.082       0.229\n",
       "==============================================================================================\n",
       "\"\"\""
      ]
     },
     "execution_count": 501,
     "metadata": {},
     "output_type": "execute_result"
    }
   ],
   "source": [
    "partidas_10min_blue8 = partidas_10min_blue7.drop(columns=['blueFirstInhibitor'])\n",
    "results = regress(partidas_10min_blue8)\n",
    "results.summary()"
   ]
  },
  {
   "cell_type": "markdown",
   "metadata": {},
   "source": [
    "Nessa última iteração, todos os valores-p estão abaixo de 10%. Isso significa que as variáveis que restaram são as variáveis que mais explicam o comportamento da nossa variável principal, que é a vitória ou não do time azul."
   ]
  },
  {
   "cell_type": "markdown",
   "metadata": {},
   "source": [
    "Como podemos prever o resultado a partir disso?"
   ]
  },
  {
   "cell_type": "markdown",
   "metadata": {},
   "source": [
    "___\n",
    "## **PREVENDO QUAL TIME VAI GANHAR**\n",
    "___"
   ]
  },
  {
   "cell_type": "markdown",
   "metadata": {},
   "source": [
    "Utilizando o mesmo pacote que utilizamos para realizar a regressão, vamos ver qual time a nossa regressão diz que ganha quando mostramos os dados reais de todas as nossas partidas."
   ]
  },
  {
   "cell_type": "code",
   "execution_count": 502,
   "metadata": {},
   "outputs": [
    {
     "name": "stdout",
     "output_type": "stream",
     "text": [
      "Real: [0, 1, 0, 0, 1, 1, 0, 1, 1, 1]\n",
      "Prediction: [0, 0, 0, 0, 1, 0, 0, 0, 0, 1]\n"
     ]
    }
   ],
   "source": [
    "Xtest = partidas_10min_blue8.iloc[:,1:]\n",
    "\n",
    "yhat = results.predict(Xtest)\n",
    "prediction = list(map(round,yhat))\n",
    "print('Real:',list(partidas_10min_blue8['blueWins'])[:10])\n",
    "print('Prediction:',prediction[:10])"
   ]
  },
  {
   "cell_type": "markdown",
   "metadata": {},
   "source": [
    "Imprimimos uma lista reduzida (porque temos quase 27.000 partidas) e vemos que alguns resultados não batem. Vamos ver o quanto que a nossa regressão acertou."
   ]
  },
  {
   "cell_type": "code",
   "execution_count": 503,
   "metadata": {},
   "outputs": [
    {
     "name": "stdout",
     "output_type": "stream",
     "text": [
      "Test accuracy = 0.728\n"
     ]
    }
   ],
   "source": [
    "cm = confusion_matrix(list(partidas_10min_blue8['blueWins']), prediction) # Definimos uma matriz de confusão.\n",
    "\n",
    "print(f'Test accuracy =', accuracy_score(list(partidas_10min_blue8['blueWins']), prediction).round(3))"
   ]
  },
  {
   "cell_type": "markdown",
   "metadata": {},
   "source": [
    "O nosso teste teve uma precisão de 72,8%. Mas quantas partidas ele acertou?"
   ]
  },
  {
   "cell_type": "markdown",
   "metadata": {},
   "source": [
    "Para isso, vamos mostrar uma ***matriz de confusão***, que já foi montada acima. Essa matriz vai nos mostrar quais resultados são corretos pelo nosso preditor e quais são incorretos."
   ]
  },
  {
   "cell_type": "code",
   "execution_count": 504,
   "metadata": {},
   "outputs": [
    {
     "data": {
      "text/plain": [
       "<AxesSubplot: >"
      ]
     },
     "execution_count": 504,
     "metadata": {},
     "output_type": "execute_result"
    },
    {
     "data": {
      "image/png": "[encoded data removed]",
      "text/plain": [
       "<Figure size 640x480 with 2 Axes>"
      ]
     },
     "metadata": {},
     "output_type": "display_data"
    }
   ],
   "source": [
    "group_names = ['Derrota Correta','Vitória Incorreta','Derrota Incorreta','Vitória Correta']\n",
    "group_counts = ['{0:0.0f}'.format(value) for value in cm.flatten()]\n",
    "group_percentages = ['{0:.2%}'.format(value) for value in cm.flatten()/np.sum(cm)]\n",
    "labels = [f'{v1}\\n{v2}\\n{v3}' for v1, v2, v3 in zip(group_names,group_counts,group_percentages)]\n",
    "labels = np.asarray(labels).reshape(2,2)\n",
    "sns.heatmap(cm, annot=labels, fmt='', cmap='Reds')"
   ]
  },
  {
   "cell_type": "markdown",
   "metadata": {},
   "source": [
    "Nessa matriz, podemos ver que os resultados corretos são maiores que os incorretos, sendo que o nosso preditor acertou 19.226 partidas."
   ]
  },
  {
   "cell_type": "markdown",
   "metadata": {},
   "source": [
    "___\n",
    "## **REPETINDO PARA PARTIDAS DE 15 MINUTOS**\n",
    "___"
   ]
  },
  {
   "cell_type": "markdown",
   "metadata": {},
   "source": [
    "Para as partidas de 15 minutos, vamos repetir o mesmo processo que o anterior. Tudo de novo."
   ]
  },
  {
   "cell_type": "markdown",
   "metadata": {},
   "source": [
    "**OBS**: *Para simplicidade e remover a poluição visual, os resultados específicos de cada iteração foram escondidos. Basta descomentar a linha e rodar a célula para ver os resultados.*"
   ]
  },
  {
   "cell_type": "code",
   "execution_count": 505,
   "metadata": {},
   "outputs": [],
   "source": [
    "partidas_15min = pd.read_csv('data\\Challenger_Ranked_Games_15minute.csv')\n",
    "#partidas_15min"
   ]
  },
  {
   "cell_type": "code",
   "execution_count": 506,
   "metadata": {},
   "outputs": [],
   "source": [
    "partidas_15min = partidas_15min.drop(columns=['gameId','blueFirstTowerLane','blueDragnoType','redFirstTowerLane','redDragnoType'])\n",
    "#partidas_15min"
   ]
  },
  {
   "cell_type": "code",
   "execution_count": 507,
   "metadata": {},
   "outputs": [],
   "source": [
    "partidas_15min['blueFirstBlood'] = partidas_15min['blueFirstBlood'].astype('category')\n",
    "partidas_15min['blueFirstBlood'] = partidas_15min['blueFirstBlood'].cat.rename_categories({0:'No',1:'Yes'})\n",
    "\n",
    "partidas_15min['redFirstBlood'] = partidas_15min['redFirstBlood'].astype('category')\n",
    "partidas_15min['redFirstBlood'] = partidas_15min['redFirstBlood'].cat.rename_categories({0:'No',1:'Yes'})\n",
    "\n",
    "partidas_15min['blueFirstTower'] = partidas_15min['blueFirstTower'].astype('category')\n",
    "partidas_15min['blueFirstTower'] = partidas_15min['blueFirstTower'].cat.rename_categories({0:'No',1:'Yes'})\n",
    "\n",
    "partidas_15min['redFirstTower'] = partidas_15min['redFirstTower'].astype('category')\n",
    "partidas_15min['redFirstTower'] = partidas_15min['redFirstTower'].cat.rename_categories({0:'No',1:'Yes'})\n",
    "\n",
    "partidas_15min['blueFirstInhibitor'] = partidas_15min['blueFirstInhibitor'].astype('category')\n",
    "partidas_15min['blueFirstInhibitor'] = partidas_15min['blueFirstInhibitor'].cat.rename_categories({0:'No',1:'Yes'})\n",
    "\n",
    "partidas_15min['redFirstInhibitor'] = partidas_15min['redFirstInhibitor'].astype('category')\n",
    "partidas_15min['redFirstInhibitor'] = partidas_15min['redFirstInhibitor'].cat.rename_categories({0:'No',1:'Yes'})"
   ]
  },
  {
   "cell_type": "code",
   "execution_count": 508,
   "metadata": {},
   "outputs": [],
   "source": [
    "partidas_15min_blue = partidas_15min.iloc[:,:23]\n",
    "partidas_15min_red = partidas_15min.iloc[:,24:45]"
   ]
  },
  {
   "cell_type": "code",
   "execution_count": 509,
   "metadata": {},
   "outputs": [],
   "source": [
    "#partidas_15min_blue"
   ]
  },
  {
   "cell_type": "code",
   "execution_count": 510,
   "metadata": {},
   "outputs": [],
   "source": [
    "#partidas_15min_red"
   ]
  },
  {
   "cell_type": "code",
   "execution_count": 511,
   "metadata": {},
   "outputs": [
    {
     "name": "stdout",
     "output_type": "stream",
     "text": [
      "Warning: Maximum number of iterations has been exceeded.\n",
      "         Current function value: 0.445911\n",
      "         Iterations: 35\n"
     ]
    },
    {
     "name": "stderr",
     "output_type": "stream",
     "text": [
      "c:\\Users\\Victor Cunha\\anaconda3\\lib\\site-packages\\statsmodels\\base\\model.py:604: ConvergenceWarning: Maximum Likelihood optimization failed to converge. Check mle_retvals\n",
      "  warnings.warn(\"Maximum Likelihood optimization failed to \"\n"
     ]
    }
   ],
   "source": [
    "results = regress(partidas_15min_blue)\n",
    "#results.summary()"
   ]
  },
  {
   "cell_type": "code",
   "execution_count": 512,
   "metadata": {},
   "outputs": [
    {
     "name": "stdout",
     "output_type": "stream",
     "text": [
      "Optimization terminated successfully.\n",
      "         Current function value: 0.447274\n",
      "         Iterations 7\n"
     ]
    }
   ],
   "source": [
    "partidas_15min_blue1 = partidas_15min_blue.drop(columns=['blueTotalLevel','blueAvgLevel','blueTowerKills','blueMidTowerKills','blueTopTowerKills','blueBotTowerKills'])\n",
    "results = regress(partidas_15min_blue1)\n",
    "#results.summary()"
   ]
  },
  {
   "cell_type": "code",
   "execution_count": 513,
   "metadata": {},
   "outputs": [
    {
     "name": "stdout",
     "output_type": "stream",
     "text": [
      "Optimization terminated successfully.\n",
      "         Current function value: 0.447275\n",
      "         Iterations 7\n"
     ]
    }
   ],
   "source": [
    "partidas_15min_blue2 = partidas_15min_blue1.drop(columns=['blueInhibitor'])\n",
    "results = regress(partidas_15min_blue2)\n",
    "#results.summary()"
   ]
  },
  {
   "cell_type": "code",
   "execution_count": 514,
   "metadata": {},
   "outputs": [
    {
     "name": "stdout",
     "output_type": "stream",
     "text": [
      "Optimization terminated successfully.\n",
      "         Current function value: 0.447276\n",
      "         Iterations 7\n"
     ]
    }
   ],
   "source": [
    "partidas_15min_blue3 = partidas_15min_blue2.drop(columns=['blueAssist'])\n",
    "results = regress(partidas_15min_blue3)\n",
    "#results.summary()"
   ]
  },
  {
   "cell_type": "code",
   "execution_count": 515,
   "metadata": {},
   "outputs": [
    {
     "name": "stdout",
     "output_type": "stream",
     "text": [
      "Optimization terminated successfully.\n",
      "         Current function value: 0.447284\n",
      "         Iterations 7\n"
     ]
    }
   ],
   "source": [
    "partidas_15min_blue4 = partidas_15min_blue3.drop(columns=['blueTotalMinionKills'])\n",
    "results = regress(partidas_15min_blue4)\n",
    "#results.summary()"
   ]
  },
  {
   "cell_type": "code",
   "execution_count": 516,
   "metadata": {},
   "outputs": [
    {
     "name": "stdout",
     "output_type": "stream",
     "text": [
      "Optimization terminated successfully.\n",
      "         Current function value: 0.447300\n",
      "         Iterations 7\n"
     ]
    },
    {
     "data": {
      "text/html": [
       "<table class=\"simpletable\">\n",
       "<caption>Logit Regression Results</caption>\n",
       "<tr>\n",
       "  <th>Dep. Variable:</th>       <td>blueWins</td>     <th>  No. Observations:  </th>  <td> 26834</td> \n",
       "</tr>\n",
       "<tr>\n",
       "  <th>Model:</th>                 <td>Logit</td>      <th>  Df Residuals:      </th>  <td> 26822</td> \n",
       "</tr>\n",
       "<tr>\n",
       "  <th>Method:</th>                 <td>MLE</td>       <th>  Df Model:          </th>  <td>    11</td> \n",
       "</tr>\n",
       "<tr>\n",
       "  <th>Date:</th>            <td>Thu, 16 May 2024</td> <th>  Pseudo R-squ.:     </th>  <td>0.3547</td> \n",
       "</tr>\n",
       "<tr>\n",
       "  <th>Time:</th>                <td>17:53:59</td>     <th>  Log-Likelihood:    </th> <td> -12003.</td>\n",
       "</tr>\n",
       "<tr>\n",
       "  <th>converged:</th>             <td>True</td>       <th>  LL-Null:           </th> <td> -18600.</td>\n",
       "</tr>\n",
       "<tr>\n",
       "  <th>Covariance Type:</th>     <td>nonrobust</td>    <th>  LLR p-value:       </th>  <td> 0.000</td> \n",
       "</tr>\n",
       "</table>\n",
       "<table class=\"simpletable\">\n",
       "<tr>\n",
       "               <td></td>                 <th>coef</th>     <th>std err</th>      <th>z</th>      <th>P>|z|</th>  <th>[0.025</th>    <th>0.975]</th>  \n",
       "</tr>\n",
       "<tr>\n",
       "  <th>Intercept</th>                  <td>   -1.9676</td> <td>    0.124</td> <td>  -15.899</td> <td> 0.000</td> <td>   -2.210</td> <td>   -1.725</td>\n",
       "</tr>\n",
       "<tr>\n",
       "  <th>blueFirstTower[T.Yes]</th>      <td>    0.3906</td> <td>    0.037</td> <td>   10.640</td> <td> 0.000</td> <td>    0.319</td> <td>    0.463</td>\n",
       "</tr>\n",
       "<tr>\n",
       "  <th>blueFirstInhibitor[T.Yes]</th>  <td>    1.0072</td> <td>    0.128</td> <td>    7.841</td> <td> 0.000</td> <td>    0.755</td> <td>    1.259</td>\n",
       "</tr>\n",
       "<tr>\n",
       "  <th>blueTotalGolds</th>             <td> 5.437e-05</td> <td>  6.4e-06</td> <td>    8.492</td> <td> 0.000</td> <td> 4.18e-05</td> <td> 6.69e-05</td>\n",
       "</tr>\n",
       "<tr>\n",
       "  <th>blueCurrentGolds</th>           <td> 9.188e-05</td> <td> 1.24e-05</td> <td>    7.438</td> <td> 0.000</td> <td> 6.77e-05</td> <td>    0.000</td>\n",
       "</tr>\n",
       "<tr>\n",
       "  <th>blueTotalJungleMinionKills</th> <td>    0.0041</td> <td>    0.001</td> <td>    4.352</td> <td> 0.000</td> <td>    0.002</td> <td>    0.006</td>\n",
       "</tr>\n",
       "<tr>\n",
       "  <th>blueKill</th>                   <td>    0.1797</td> <td>    0.006</td> <td>   32.174</td> <td> 0.000</td> <td>    0.169</td> <td>    0.191</td>\n",
       "</tr>\n",
       "<tr>\n",
       "  <th>blueDeath</th>                  <td>   -0.2223</td> <td>    0.004</td> <td>  -55.056</td> <td> 0.000</td> <td>   -0.230</td> <td>   -0.214</td>\n",
       "</tr>\n",
       "<tr>\n",
       "  <th>blueWardPlaced</th>             <td>   -0.0018</td> <td>    0.001</td> <td>   -2.817</td> <td> 0.005</td> <td>   -0.003</td> <td>   -0.001</td>\n",
       "</tr>\n",
       "<tr>\n",
       "  <th>blueWardKills</th>              <td>   -0.0095</td> <td>    0.004</td> <td>   -2.472</td> <td> 0.013</td> <td>   -0.017</td> <td>   -0.002</td>\n",
       "</tr>\n",
       "<tr>\n",
       "  <th>blueDragon</th>                 <td>    0.4582</td> <td>    0.025</td> <td>   18.537</td> <td> 0.000</td> <td>    0.410</td> <td>    0.507</td>\n",
       "</tr>\n",
       "<tr>\n",
       "  <th>blueRiftHeralds</th>            <td>    0.1131</td> <td>    0.036</td> <td>    3.138</td> <td> 0.002</td> <td>    0.042</td> <td>    0.184</td>\n",
       "</tr>\n",
       "</table>"
      ],
      "text/plain": [
       "<class 'statsmodels.iolib.summary.Summary'>\n",
       "\"\"\"\n",
       "                           Logit Regression Results                           \n",
       "==============================================================================\n",
       "Dep. Variable:               blueWins   No. Observations:                26834\n",
       "Model:                          Logit   Df Residuals:                    26822\n",
       "Method:                           MLE   Df Model:                           11\n",
       "Date:                Thu, 16 May 2024   Pseudo R-squ.:                  0.3547\n",
       "Time:                        17:53:59   Log-Likelihood:                -12003.\n",
       "converged:                       True   LL-Null:                       -18600.\n",
       "Covariance Type:            nonrobust   LLR p-value:                     0.000\n",
       "==============================================================================================\n",
       "                                 coef    std err          z      P>|z|      [0.025      0.975]\n",
       "----------------------------------------------------------------------------------------------\n",
       "Intercept                     -1.9676      0.124    -15.899      0.000      -2.210      -1.725\n",
       "blueFirstTower[T.Yes]          0.3906      0.037     10.640      0.000       0.319       0.463\n",
       "blueFirstInhibitor[T.Yes]      1.0072      0.128      7.841      0.000       0.755       1.259\n",
       "blueTotalGolds              5.437e-05    6.4e-06      8.492      0.000    4.18e-05    6.69e-05\n",
       "blueCurrentGolds            9.188e-05   1.24e-05      7.438      0.000    6.77e-05       0.000\n",
       "blueTotalJungleMinionKills     0.0041      0.001      4.352      0.000       0.002       0.006\n",
       "blueKill                       0.1797      0.006     32.174      0.000       0.169       0.191\n",
       "blueDeath                     -0.2223      0.004    -55.056      0.000      -0.230      -0.214\n",
       "blueWardPlaced                -0.0018      0.001     -2.817      0.005      -0.003      -0.001\n",
       "blueWardKills                 -0.0095      0.004     -2.472      0.013      -0.017      -0.002\n",
       "blueDragon                     0.4582      0.025     18.537      0.000       0.410       0.507\n",
       "blueRiftHeralds                0.1131      0.036      3.138      0.002       0.042       0.184\n",
       "==============================================================================================\n",
       "\"\"\""
      ]
     },
     "execution_count": 516,
     "metadata": {},
     "output_type": "execute_result"
    }
   ],
   "source": [
    "partidas_15min_blue5 = partidas_15min_blue4.drop(columns=['blueFirstDragon'])\n",
    "results = regress(partidas_15min_blue5)\n",
    "results.summary()"
   ]
  },
  {
   "cell_type": "markdown",
   "metadata": {},
   "source": [
    "Algo importante a ser analisado nessa regressão é que as variáveis significativas foram alteradas. Algumas sumiram e outras foram adicionadas. Isso será explicado melhor na conclusão."
   ]
  },
  {
   "cell_type": "markdown",
   "metadata": {},
   "source": [
    "Agora, vamos ver como o nosso preditor funciona nas próprias partidas de 15 minutos."
   ]
  },
  {
   "cell_type": "code",
   "execution_count": 517,
   "metadata": {},
   "outputs": [
    {
     "name": "stdout",
     "output_type": "stream",
     "text": [
      "Test accuracy = 0.791\n"
     ]
    }
   ],
   "source": [
    "Xtest = partidas_15min_blue5.iloc[:,1:]\n",
    "\n",
    "yhat = results.predict(Xtest)\n",
    "prediction = list(map(round,yhat))\n",
    "#print('Real:',list(partidas_15min_blue5['blueWins'])[:10])\n",
    "#print('Prediction:',prediction[:10])\n",
    "\n",
    "cm = confusion_matrix(list(partidas_15min_blue5['blueWins']), prediction)\n",
    "\n",
    "print(f'Test accuracy =', accuracy_score(list(partidas_15min_blue5['blueWins']), prediction).round(3))"
   ]
  },
  {
   "cell_type": "markdown",
   "metadata": {},
   "source": [
    "Podemos ver que, para as partidas de 15 minutos, o nosso preditor acertou mais, com 79,1% de precisão."
   ]
  },
  {
   "cell_type": "code",
   "execution_count": 518,
   "metadata": {},
   "outputs": [
    {
     "data": {
      "text/plain": [
       "<AxesSubplot: >"
      ]
     },
     "execution_count": 518,
     "metadata": {},
     "output_type": "execute_result"
    },
    {
     "data": {
      "image/png": "[encoded data removed]",
      "text/plain": [
       "<Figure size 640x480 with 2 Axes>"
      ]
     },
     "metadata": {},
     "output_type": "display_data"
    }
   ],
   "source": [
    "group_names = ['Derrota Correta','Vitória Incorreta','Derrota Incorreta','Vitória Correta']\n",
    "group_counts = ['{0:0.0f}'.format(value) for value in cm.flatten()]\n",
    "group_percentages = ['{0:.2%}'.format(value) for value in cm.flatten()/np.sum(cm)]\n",
    "labels = [f'{v1}\\n{v2}\\n{v3}' for v1, v2, v3 in zip(group_names,group_counts,group_percentages)]\n",
    "labels = np.asarray(labels).reshape(2,2)\n",
    "sns.heatmap(cm, annot=labels, fmt='', cmap='Reds')"
   ]
  },
  {
   "cell_type": "markdown",
   "metadata": {},
   "source": [
    "Para as de 15 minutos, o nosso preditor acertou 21.214 partidas. Ou seja, para partidas de 15 minutos, o nosso preditor é mais preciso."
   ]
  },
  {
   "cell_type": "markdown",
   "metadata": {},
   "source": [
    "Porém, em uma partida de League Of Legends, 5 minutos muda bastante coisa. Basta olhar pela precisão dos nossos preditores."
   ]
  },
  {
   "cell_type": "markdown",
   "metadata": {},
   "source": [
    "Será que o modelo de 10 minutos mantém a sua precisão em partidas de 15 minutos?"
   ]
  },
  {
   "cell_type": "markdown",
   "metadata": {},
   "source": [
    "___\n",
    "## **APLICANDO OS PREDITORES**\n",
    "___"
   ]
  },
  {
   "cell_type": "markdown",
   "metadata": {},
   "source": [
    "Para início, vamos adaptar a base de dados para os parâmetros que o nosso preditor de 10 minutos utiliza."
   ]
  },
  {
   "cell_type": "code",
   "execution_count": 519,
   "metadata": {},
   "outputs": [],
   "source": [
    "partidas_15min_blue_adaptado = partidas_15min_blue.loc[:,partidas_10min_blue8.columns]"
   ]
  },
  {
   "cell_type": "markdown",
   "metadata": {},
   "source": [
    "Agora, vamos testar."
   ]
  },
  {
   "cell_type": "code",
   "execution_count": 520,
   "metadata": {},
   "outputs": [
    {
     "name": "stdout",
     "output_type": "stream",
     "text": [
      "Optimization terminated successfully.\n",
      "         Current function value: 0.538975\n",
      "         Iterations 6\n",
      "\n",
      "\n",
      "Test accuracy = 0.667\n"
     ]
    }
   ],
   "source": [
    "Xtest = partidas_15min_blue_adaptado.iloc[:,1:]\n",
    "\n",
    "results = regress(partidas_10min_blue8)\n",
    "yhat = results.predict(Xtest)\n",
    "prediction = list(map(round,yhat))\n",
    "#print('Real:',list(partidas_15min_blue5['blueWins'])[:10])\n",
    "#print('Prediction:',prediction[:10])\n",
    "\n",
    "print('\\n')\n",
    "\n",
    "cm = confusion_matrix(list(partidas_15min_blue_adaptado['blueWins']), prediction)\n",
    "\n",
    "print(f'Test accuracy =', accuracy_score(list(partidas_15min_blue_adaptado['blueWins']), prediction).round(3))"
   ]
  },
  {
   "cell_type": "markdown",
   "metadata": {},
   "source": [
    "Nossa, a precisão caiu."
   ]
  },
  {
   "cell_type": "markdown",
   "metadata": {},
   "source": [
    "Vamos ver na matriz de confusão."
   ]
  },
  {
   "cell_type": "code",
   "execution_count": 521,
   "metadata": {},
   "outputs": [
    {
     "data": {
      "text/plain": [
       "<AxesSubplot: >"
      ]
     },
     "execution_count": 521,
     "metadata": {},
     "output_type": "execute_result"
    },
    {
     "data": {
      "image/png": "[encoded data removed]",
      "text/plain": [
       "<Figure size 640x480 with 2 Axes>"
      ]
     },
     "metadata": {},
     "output_type": "display_data"
    }
   ],
   "source": [
    "group_names = ['Derrota Correta','Vitória Incorreta','Derrota Incorreta','Vitória Correta']\n",
    "group_counts = ['{0:0.0f}'.format(value) for value in cm.flatten()]\n",
    "group_percentages = ['{0:.2%}'.format(value) for value in cm.flatten()/np.sum(cm)]\n",
    "labels = [f'{v1}\\n{v2}\\n{v3}' for v1, v2, v3 in zip(group_names,group_counts,group_percentages)]\n",
    "labels = np.asarray(labels).reshape(2,2)\n",
    "sns.heatmap(cm, annot=labels, fmt='', cmap='Reds')"
   ]
  },
  {
   "cell_type": "markdown",
   "metadata": {},
   "source": [
    "Mas e o preditor de 15 minutos na base de 10 minutos?"
   ]
  },
  {
   "cell_type": "code",
   "execution_count": 522,
   "metadata": {},
   "outputs": [
    {
     "name": "stdout",
     "output_type": "stream",
     "text": [
      "Optimization terminated successfully.\n",
      "         Current function value: 0.447300\n",
      "         Iterations 7\n",
      "\n",
      "\n",
      "Test accuracy = 0.674\n"
     ]
    }
   ],
   "source": [
    "partidas_10min_blue_adaptado = partidas_10min_blue.loc[:,partidas_15min_blue5.columns]\n",
    "\n",
    "Xtest = partidas_10min_blue_adaptado.iloc[:,1:]\n",
    "results = regress(partidas_15min_blue5)\n",
    "yhat = results.predict(Xtest)\n",
    "prediction = list(map(round,yhat))\n",
    "print('\\n')\n",
    "#print('Real:',list(partidas_10min_blue8['blueWins'])[:10])\n",
    "#print('Prediction:',prediction[:10])\n",
    "\n",
    "cm = confusion_matrix(list(partidas_10min_blue_adaptado['blueWins']), prediction)\n",
    "\n",
    "print(f'Test accuracy =', accuracy_score(list(partidas_10min_blue_adaptado['blueWins']), prediction).round(3))"
   ]
  },
  {
   "cell_type": "markdown",
   "metadata": {},
   "source": [
    "Ambos caíram a precisão."
   ]
  },
  {
   "cell_type": "markdown",
   "metadata": {},
   "source": [
    "E na matriz de confusão?"
   ]
  },
  {
   "cell_type": "code",
   "execution_count": 523,
   "metadata": {},
   "outputs": [
    {
     "data": {
      "text/plain": [
       "<AxesSubplot: >"
      ]
     },
     "execution_count": 523,
     "metadata": {},
     "output_type": "execute_result"
    },
    {
     "data": {
      "image/png": "[encoded data removed]",
      "text/plain": [
       "<Figure size 640x480 with 2 Axes>"
      ]
     },
     "metadata": {},
     "output_type": "display_data"
    }
   ],
   "source": [
    "group_names = ['Derrota Correta','Vitória Incorreta','Derrota Incorreta','Vitória Correta']\n",
    "group_counts = ['{0:0.0f}'.format(value) for value in cm.flatten()]\n",
    "group_percentages = ['{0:.2%}'.format(value) for value in cm.flatten()/np.sum(cm)]\n",
    "labels = [f'{v1}\\n{v2}\\n{v3}' for v1, v2, v3 in zip(group_names,group_counts,group_percentages)]\n",
    "labels = np.asarray(labels).reshape(2,2)\n",
    "sns.heatmap(cm, annot=labels, fmt='', cmap='Reds')"
   ]
  },
  {
   "cell_type": "markdown",
   "metadata": {},
   "source": [
    "A precisão de ambos os preditores caiu bastante com uma diferença de apenas 5 minutos."
   ]
  },
  {
   "cell_type": "markdown",
   "metadata": {},
   "source": [
    "___\n",
    "## **CONCLUSÃO**\n",
    "___"
   ]
  },
  {
   "cell_type": "markdown",
   "metadata": {},
   "source": [
    "Obviamente, é muito difícil prever com uma precisão EXATA qual time vai ganhar. Existem vários fatores que não podem (e nem tem como) ser levados em conta.\n",
    "\n",
    "Como um próprio jogador desse jogo, já houveram partidas em que, estatisticamente, eu deveria ter perdido. Mas, nos últimos 5 minutos, por algum motivo, meu time virou e nós ganhamos."
   ]
  },
  {
   "cell_type": "markdown",
   "metadata": {},
   "source": [
    "Mas podemos chegar próximo. "
   ]
  },
  {
   "cell_type": "markdown",
   "metadata": {},
   "source": [
    "Uma conclusão que é possível de ser tirada dessa análise é que, com os mesmos tipos de dados mas uma duração maior de partida, conseguimos prever com mais precisão qual time irá ganhar. Se houvesse um banco de dados com partidas de 20 minutos, é capaz de que nossa base de dados fosse mais precisa ao prever os resultados."
   ]
  },
  {
   "cell_type": "markdown",
   "metadata": {},
   "source": [
    "Mas, ao aplicar um preditor de um certo tempo em outro, a nossa precisão cai absurdamente por conta das rápidas mudanças em uma partida de League Of Legends."
   ]
  },
  {
   "cell_type": "markdown",
   "metadata": {},
   "source": [
    "Isso ocorre porque existem eventos que são desbloqueados depois de certo tempo de partida. Por exemplo, o barão (Riftherald) é desbloqueado pela primeira vez aos 15 minutos de partida, oferecendo uma grande vantagem para o time que conseguir ter ele."
   ]
  },
  {
   "cell_type": "markdown",
   "metadata": {},
   "source": [
    "Por isso que as variáveis significativas mudam bastante depois dos 15 minutos: algumas entram em conta quando o jogo progride."
   ]
  },
  {
   "cell_type": "markdown",
   "metadata": {},
   "source": [
    "Com isso, é possível concluir que o nosso preditor é bastante preciso, mas apenas para partidas o mais próximo possível do tempo medido."
   ]
  },
  {
   "cell_type": "markdown",
   "metadata": {},
   "source": [
    "___\n",
    "## **REFERÊNCIAS**\n",
    "___"
   ]
  },
  {
   "cell_type": "markdown",
   "metadata": {},
   "source": [
    "- [Explicação da fórmula de Logit em Python](https://www.andrewvillazon.com/logistic-regression-python-statsmodels/)\n",
    "- [Explicação dos gráficos de Logit](https://stats.oarc.ucla.edu/other/mult-pkg/faq/general/faq-how-do-i-interpret-odds-ratios-in-logistic-regression/)\n",
    "- [Explicação da fórmula geral de Logit](https://www.statlect.com/fundamentals-of-statistics/logistic-model-maximum-likelihood)\n",
    "- [Outra explicação de Logit](https://towardsdatascience.com/a-simple-interpretation-of-logistic-regression-coefficients-e3a40a62e8cf)\n",
    "- [Uma outra explicação de Logit](https://www.appstate.edu/~whiteheadjc/service/logit/intro.htm)\n",
    "- [Link da base de dados](https://www.kaggle.com/datasets/gyejr95/league-of-legends-challenger-rank-game10min15min/data)"
   ]
  }
 ],
 "metadata": {
  "kernelspec": {
   "display_name": "base",
   "language": "python",
   "name": "python3"
  },
  "language_info": {
   "codemirror_mode": {
    "name": "ipython",
    "version": 3
   },
   "file_extension": ".py",
   "mimetype": "text/x-python",
   "name": "python",
   "nbconvert_exporter": "python",
   "pygments_lexer": "ipython3",
   "version": "3.9.12"
  }
 },
 "nbformat": 4,
 "nbformat_minor": 2
}
